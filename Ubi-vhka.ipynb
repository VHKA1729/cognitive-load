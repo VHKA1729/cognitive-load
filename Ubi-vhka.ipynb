{
  "nbformat": 4,
  "nbformat_minor": 0,
  "metadata": {
    "kernelspec": {
      "display_name": "Python 3",
      "language": "python",
      "name": "python3"
    },
    "language_info": {
      "codemirror_mode": {
        "name": "ipython",
        "version": 3
      },
      "file_extension": ".py",
      "mimetype": "text/x-python",
      "name": "python",
      "nbconvert_exporter": "python",
      "pygments_lexer": "ipython3",
      "version": "3.8.3"
    },
    "colab": {
      "name": "Ubi-vhka.ipynb",
      "provenance": []
    }
  },
  "cells": [
    {
      "cell_type": "code",
      "metadata": {
        "id": "ISgXM-YznOLk",
        "colab_type": "code",
        "colab": {}
      },
      "source": [
        "import pandas as pd\n",
        "import numpy as np\n",
        "\n",
        "import gc\n",
        "import os\n",
        "import random\n",
        "import time\n",
        "\n",
        "import seaborn as sns\n",
        "from matplotlib import pyplot as plt\n",
        "\n",
        "import statistics as st\n",
        "from scipy.stats import skew \n",
        "from scipy.stats import kurtosis\n",
        "from scipy import signal\n",
        "\n",
        "from sklearn.decomposition import PCA\n",
        "from sklearn.preprocessing import StandardScaler, LabelEncoder, Normalizer\n",
        "\n",
        "from sklearn.linear_model import LogisticRegression\n",
        "from sklearn.svm import SVC\n",
        "from sklearn.neighbors import KNeighborsClassifier\n",
        "from sklearn import tree\n",
        "from sklearn.tree import DecisionTreeClassifier\n",
        "from sklearn.neural_network import MLPClassifier\n",
        "from sklearn.neighbors import KNeighborsClassifier\n",
        "from sklearn.ensemble import GradientBoostingClassifier\n",
        "from sklearn.ensemble import AdaBoostClassifier\n",
        "from sklearn.gaussian_process.kernels import RBF\n",
        "from sklearn.ensemble import RandomForestClassifier, ExtraTreesClassifier, VotingClassifier, StackingClassifier\n",
        "from sklearn.naive_bayes import GaussianNB\n",
        "from sklearn.discriminant_analysis import QuadraticDiscriminantAnalysis\n",
        "from sklearn.gaussian_process import GaussianProcessClassifier\n",
        "\n",
        "from sklearn.model_selection import StratifiedKFold, cross_val_score, GridSearchCV, RandomizedSearchCV, train_test_split\n",
        "\n",
        "import xgboost as xgb"
      ],
      "execution_count": 377,
      "outputs": []
    },
    {
      "cell_type": "code",
      "metadata": {
        "id": "2Onj_7T2nOLs",
        "colab_type": "code",
        "colab": {
          "base_uri": "https://localhost:8080/",
          "height": 34
        },
        "outputId": "827fbe99-9c1b-4e19-f19c-fd6728e5fe8e"
      },
      "source": [
        "SEED = 1729\n",
        "def determinism(SEED=SEED):\n",
        "    random.seed = SEED\n",
        "    os.environ['PYTHONHASHSEED'] = str(SEED)\n",
        "    np.random.seed = SEED\n",
        "    print('done')\n",
        "    \n",
        "determinism()"
      ],
      "execution_count": 378,
      "outputs": [
        {
          "output_type": "stream",
          "text": [
            "done\n"
          ],
          "name": "stdout"
        }
      ]
    },
    {
      "cell_type": "code",
      "metadata": {
        "id": "ESAqUZwZnOLw",
        "colab_type": "code",
        "colab": {}
      },
      "source": [
        "gsr=pd.read_csv('/content/gsr_train.csv',header=None)\n",
        "rr=pd.read_csv('/content/rr_train.csv',header=None)\n",
        "hr=pd.read_csv('/content/hr_train.csv',header=None)\n",
        "temp=pd.read_csv('/content/temp_train.csv',header=None)\n",
        "label=pd.read_csv('/content/labels_train.csv',header=None)"
      ],
      "execution_count": 379,
      "outputs": []
    },
    {
      "cell_type": "code",
      "metadata": {
        "id": "KML-Mus26Mj_",
        "colab_type": "code",
        "colab": {}
      },
      "source": [
        "gsr.iloc[:,:] = Normalizer(norm='l1').fit_transform(gsr)\n",
        "hr.iloc[:,:] = Normalizer(norm='l1').fit_transform(hr)\n",
        "rr.iloc[:,:] = Normalizer(norm='l1').fit_transform(rr)\n",
        "temp.iloc[:,:] = Normalizer(norm='l1').fit_transform(temp)"
      ],
      "execution_count": 324,
      "outputs": []
    },
    {
      "cell_type": "markdown",
      "metadata": {
        "id": "M6Vj9HZZnOL5",
        "colab_type": "text"
      },
      "source": [
        "Power Spectrum Calculation"
      ]
    },
    {
      "cell_type": "code",
      "metadata": {
        "id": "fxaoNEsfnOL6",
        "colab_type": "code",
        "colab": {
          "base_uri": "https://localhost:8080/",
          "height": 71
        },
        "outputId": "b3fb908d-7a21-4361-b64a-07840e4e42ab"
      },
      "source": [
        "gsr_ps=[]\n",
        "for i in range(0,632):    \n",
        "    freqs, psd = signal.welch(gsr.iloc[i])\n",
        "    gsr_ps.append(np.mean(psd))\n",
        "rr_ps=[]\n",
        "for i in range(0,632):    \n",
        "    freqs, psd = signal.welch(rr.iloc[i])\n",
        "    rr_ps.append(np.mean(psd))\n",
        "hr_ps=[]\n",
        "for i in range(0,632):    \n",
        "    freqs, psd = signal.welch(hr.iloc[i])\n",
        "    hr_ps.append(np.mean(psd))"
      ],
      "execution_count": 380,
      "outputs": [
        {
          "output_type": "stream",
          "text": [
            "/usr/local/lib/python3.6/dist-packages/scipy/signal/spectral.py:1966: UserWarning: nperseg = 256 is greater than input length  = 30, using nperseg = 30\n",
            "  .format(nperseg, input_length))\n"
          ],
          "name": "stderr"
        }
      ]
    },
    {
      "cell_type": "code",
      "metadata": {
        "id": "7Ipy4nJenOL-",
        "colab_type": "code",
        "colab": {}
      },
      "source": [
        "gsr_mean=(gsr.mean(axis=1))\n",
        "gsr_mean2_gsr=(gsr.mean(axis=1))**2\n",
        "#gsr_var=(gsr.var(axis=1))\n",
        "gsr_var=(gsr.std(axis=1))\n",
        "gsr_med=gsr.median(axis=1)\n",
        "gsr_kurt=gsr.kurt(axis=1)\n",
        "gsr_cs=np.cumsum(gsr,axis=1)[29]\n",
        "#gsr_ps\n",
        "hr_mean=(hr.mean(axis=1))\n",
        "hr_mean2=(hr.mean(axis=1))**2\n",
        "#hr_var=(hr.var(axis=1))\n",
        "hr_var=(hr.std(axis=1))\n",
        "hr_med=hr.median(axis=1)\n",
        "hr_kurt=hr.kurt(axis=1)\n",
        "hr_cs=np.cumsum(hr,axis=1)[29]\n",
        "#hr_ps\n",
        "\n",
        "rr_mean=(rr.mean(axis=1))\n",
        "rr_mean2=(rr.mean(axis=1))**2\n",
        "#rr_var=(rr.var(axis=1))\n",
        "rr_var=(rr.std(axis=1))\n",
        "rr_med=rr.median(axis=1)\n",
        "rr_kurt=rr.kurt(axis=1)\n",
        "rr_cs=np.cumsum(rr,axis=1)[29]\n",
        "#rr_ps\n",
        "\n",
        "#temp_i = temp[0]"
      ],
      "execution_count": 381,
      "outputs": []
    },
    {
      "cell_type": "code",
      "metadata": {
        "id": "VfNAIReynOMB",
        "colab_type": "code",
        "colab": {}
      },
      "source": [
        "df=pd.DataFrame(\n",
        "    list(\n",
        "        zip(gsr_mean,gsr_var,gsr_med,gsr_kurt,gsr_cs,gsr_ps,\n",
        "            hr_mean,hr_var,hr_med,hr_kurt,hr_cs,hr_ps,\n",
        "            rr_mean,rr_var,rr_med,rr_kurt,rr_cs,rr_ps, \n",
        "            #temp_i,\n",
        "            label[0])))\n",
        "\n"
      ],
      "execution_count": 382,
      "outputs": []
    },
    {
      "cell_type": "code",
      "metadata": {
        "id": "6U_R1xebnOMF",
        "colab_type": "code",
        "colab": {}
      },
      "source": [
        "df.columns=['gsr_mean','gsr_var','gsr_med','gsr_kurt','gsr_cs','gsr_ps',\n",
        "            'hr_mean','hr_var','hr_med','hr_kurt','hr_cs','hr_ps',\n",
        "            'rr_mean','rr_var','rr_med','rr_kurt','rr_cs','rr_ps', \n",
        "            #'temp_initial',\n",
        "            'label']\n"
      ],
      "execution_count": 384,
      "outputs": []
    },
    {
      "cell_type": "code",
      "metadata": {
        "id": "dEOGdnCDnOMJ",
        "colab_type": "code",
        "colab": {
          "base_uri": "https://localhost:8080/",
          "height": 439
        },
        "outputId": "e3e8e6cb-02b4-422c-dc6a-a34f5e1670ba"
      },
      "source": [
        "df"
      ],
      "execution_count": 385,
      "outputs": [
        {
          "output_type": "execute_result",
          "data": {
            "text/html": [
              "<div>\n",
              "<style scoped>\n",
              "    .dataframe tbody tr th:only-of-type {\n",
              "        vertical-align: middle;\n",
              "    }\n",
              "\n",
              "    .dataframe tbody tr th {\n",
              "        vertical-align: top;\n",
              "    }\n",
              "\n",
              "    .dataframe thead th {\n",
              "        text-align: right;\n",
              "    }\n",
              "</style>\n",
              "<table border=\"1\" class=\"dataframe\">\n",
              "  <thead>\n",
              "    <tr style=\"text-align: right;\">\n",
              "      <th></th>\n",
              "      <th>gsr_mean</th>\n",
              "      <th>gsr_var</th>\n",
              "      <th>gsr_med</th>\n",
              "      <th>gsr_kurt</th>\n",
              "      <th>gsr_cs</th>\n",
              "      <th>gsr_ps</th>\n",
              "      <th>hr_mean</th>\n",
              "      <th>hr_var</th>\n",
              "      <th>hr_med</th>\n",
              "      <th>hr_kurt</th>\n",
              "      <th>hr_cs</th>\n",
              "      <th>hr_ps</th>\n",
              "      <th>rr_mean</th>\n",
              "      <th>rr_var</th>\n",
              "      <th>rr_med</th>\n",
              "      <th>rr_kurt</th>\n",
              "      <th>rr_cs</th>\n",
              "      <th>rr_ps</th>\n",
              "      <th>temp_initial</th>\n",
              "      <th>label</th>\n",
              "    </tr>\n",
              "  </thead>\n",
              "  <tbody>\n",
              "    <tr>\n",
              "      <th>0</th>\n",
              "      <td>1.629602</td>\n",
              "      <td>0.023946</td>\n",
              "      <td>1.633575</td>\n",
              "      <td>-1.584146</td>\n",
              "      <td>48.888074</td>\n",
              "      <td>0.000654</td>\n",
              "      <td>62.511111</td>\n",
              "      <td>1.443000</td>\n",
              "      <td>62.000000</td>\n",
              "      <td>1.000413</td>\n",
              "      <td>1875.333333</td>\n",
              "      <td>0.723715</td>\n",
              "      <td>0.942426</td>\n",
              "      <td>0.040319</td>\n",
              "      <td>0.951275</td>\n",
              "      <td>1.669456</td>\n",
              "      <td>28.272768</td>\n",
              "      <td>0.000989</td>\n",
              "      <td>33.619999</td>\n",
              "      <td>0</td>\n",
              "    </tr>\n",
              "    <tr>\n",
              "      <th>1</th>\n",
              "      <td>0.574807</td>\n",
              "      <td>0.122610</td>\n",
              "      <td>0.655739</td>\n",
              "      <td>-0.966358</td>\n",
              "      <td>17.244212</td>\n",
              "      <td>0.030699</td>\n",
              "      <td>74.933333</td>\n",
              "      <td>2.409114</td>\n",
              "      <td>74.666667</td>\n",
              "      <td>-0.338040</td>\n",
              "      <td>2248.000000</td>\n",
              "      <td>13.899084</td>\n",
              "      <td>0.804159</td>\n",
              "      <td>0.062397</td>\n",
              "      <td>0.788120</td>\n",
              "      <td>-0.332033</td>\n",
              "      <td>24.124768</td>\n",
              "      <td>0.006959</td>\n",
              "      <td>34.290001</td>\n",
              "      <td>1</td>\n",
              "    </tr>\n",
              "    <tr>\n",
              "      <th>2</th>\n",
              "      <td>1.020229</td>\n",
              "      <td>0.032426</td>\n",
              "      <td>1.039323</td>\n",
              "      <td>0.185807</td>\n",
              "      <td>30.606870</td>\n",
              "      <td>0.000733</td>\n",
              "      <td>62.500000</td>\n",
              "      <td>1.335487</td>\n",
              "      <td>63.000000</td>\n",
              "      <td>4.560340</td>\n",
              "      <td>1875.000000</td>\n",
              "      <td>0.823004</td>\n",
              "      <td>0.923990</td>\n",
              "      <td>0.237954</td>\n",
              "      <td>0.956805</td>\n",
              "      <td>3.917334</td>\n",
              "      <td>27.719701</td>\n",
              "      <td>0.008351</td>\n",
              "      <td>32.040001</td>\n",
              "      <td>1</td>\n",
              "    </tr>\n",
              "    <tr>\n",
              "      <th>3</th>\n",
              "      <td>1.507063</td>\n",
              "      <td>0.052266</td>\n",
              "      <td>1.504966</td>\n",
              "      <td>-0.961365</td>\n",
              "      <td>45.211902</td>\n",
              "      <td>0.002291</td>\n",
              "      <td>75.466667</td>\n",
              "      <td>1.176396</td>\n",
              "      <td>75.666667</td>\n",
              "      <td>3.515310</td>\n",
              "      <td>2264.000000</td>\n",
              "      <td>1.438966</td>\n",
              "      <td>0.793835</td>\n",
              "      <td>0.031040</td>\n",
              "      <td>0.790885</td>\n",
              "      <td>-0.916222</td>\n",
              "      <td>23.815051</td>\n",
              "      <td>0.001574</td>\n",
              "      <td>35.009998</td>\n",
              "      <td>0</td>\n",
              "    </tr>\n",
              "    <tr>\n",
              "      <th>4</th>\n",
              "      <td>0.378422</td>\n",
              "      <td>0.002689</td>\n",
              "      <td>0.377606</td>\n",
              "      <td>-1.675707</td>\n",
              "      <td>11.352647</td>\n",
              "      <td>0.000014</td>\n",
              "      <td>73.155556</td>\n",
              "      <td>7.828494</td>\n",
              "      <td>76.166667</td>\n",
              "      <td>3.425780</td>\n",
              "      <td>2194.666667</td>\n",
              "      <td>19.293753</td>\n",
              "      <td>0.701381</td>\n",
              "      <td>0.133792</td>\n",
              "      <td>0.745257</td>\n",
              "      <td>2.406221</td>\n",
              "      <td>21.041421</td>\n",
              "      <td>0.008772</td>\n",
              "      <td>31.900000</td>\n",
              "      <td>1</td>\n",
              "    </tr>\n",
              "    <tr>\n",
              "      <th>...</th>\n",
              "      <td>...</td>\n",
              "      <td>...</td>\n",
              "      <td>...</td>\n",
              "      <td>...</td>\n",
              "      <td>...</td>\n",
              "      <td>...</td>\n",
              "      <td>...</td>\n",
              "      <td>...</td>\n",
              "      <td>...</td>\n",
              "      <td>...</td>\n",
              "      <td>...</td>\n",
              "      <td>...</td>\n",
              "      <td>...</td>\n",
              "      <td>...</td>\n",
              "      <td>...</td>\n",
              "      <td>...</td>\n",
              "      <td>...</td>\n",
              "      <td>...</td>\n",
              "      <td>...</td>\n",
              "      <td>...</td>\n",
              "    </tr>\n",
              "    <tr>\n",
              "      <th>627</th>\n",
              "      <td>3.120945</td>\n",
              "      <td>0.025381</td>\n",
              "      <td>3.105660</td>\n",
              "      <td>-0.103505</td>\n",
              "      <td>93.628362</td>\n",
              "      <td>0.000703</td>\n",
              "      <td>84.777778</td>\n",
              "      <td>1.235904</td>\n",
              "      <td>84.333333</td>\n",
              "      <td>-0.977876</td>\n",
              "      <td>2543.333333</td>\n",
              "      <td>3.900179</td>\n",
              "      <td>0.698708</td>\n",
              "      <td>0.120967</td>\n",
              "      <td>0.681655</td>\n",
              "      <td>4.770574</td>\n",
              "      <td>20.961227</td>\n",
              "      <td>0.031894</td>\n",
              "      <td>31.760000</td>\n",
              "      <td>0</td>\n",
              "    </tr>\n",
              "    <tr>\n",
              "      <th>628</th>\n",
              "      <td>2.678209</td>\n",
              "      <td>0.007556</td>\n",
              "      <td>2.677381</td>\n",
              "      <td>-0.727722</td>\n",
              "      <td>80.346274</td>\n",
              "      <td>0.000126</td>\n",
              "      <td>74.555556</td>\n",
              "      <td>2.687182</td>\n",
              "      <td>75.000000</td>\n",
              "      <td>0.865552</td>\n",
              "      <td>2236.666667</td>\n",
              "      <td>16.161541</td>\n",
              "      <td>0.790332</td>\n",
              "      <td>0.065638</td>\n",
              "      <td>0.790885</td>\n",
              "      <td>0.386511</td>\n",
              "      <td>23.709968</td>\n",
              "      <td>0.006209</td>\n",
              "      <td>32.549999</td>\n",
              "      <td>1</td>\n",
              "    </tr>\n",
              "    <tr>\n",
              "      <th>629</th>\n",
              "      <td>1.228856</td>\n",
              "      <td>0.018503</td>\n",
              "      <td>1.228508</td>\n",
              "      <td>-1.158179</td>\n",
              "      <td>36.865673</td>\n",
              "      <td>0.000804</td>\n",
              "      <td>80.933333</td>\n",
              "      <td>1.818171</td>\n",
              "      <td>80.333333</td>\n",
              "      <td>4.022358</td>\n",
              "      <td>2428.000000</td>\n",
              "      <td>2.051780</td>\n",
              "      <td>0.730601</td>\n",
              "      <td>0.040050</td>\n",
              "      <td>0.724517</td>\n",
              "      <td>0.257702</td>\n",
              "      <td>21.918032</td>\n",
              "      <td>0.001117</td>\n",
              "      <td>32.880001</td>\n",
              "      <td>0</td>\n",
              "    </tr>\n",
              "    <tr>\n",
              "      <th>630</th>\n",
              "      <td>0.659290</td>\n",
              "      <td>0.003409</td>\n",
              "      <td>0.659197</td>\n",
              "      <td>-1.183209</td>\n",
              "      <td>19.778713</td>\n",
              "      <td>0.000005</td>\n",
              "      <td>72.077778</td>\n",
              "      <td>1.995557</td>\n",
              "      <td>72.000000</td>\n",
              "      <td>-0.156441</td>\n",
              "      <td>2162.333333</td>\n",
              "      <td>5.004645</td>\n",
              "      <td>0.821304</td>\n",
              "      <td>0.028967</td>\n",
              "      <td>0.824069</td>\n",
              "      <td>0.283480</td>\n",
              "      <td>24.639120</td>\n",
              "      <td>0.001536</td>\n",
              "      <td>34.270000</td>\n",
              "      <td>0</td>\n",
              "    </tr>\n",
              "    <tr>\n",
              "      <th>631</th>\n",
              "      <td>0.519258</td>\n",
              "      <td>0.017714</td>\n",
              "      <td>0.512998</td>\n",
              "      <td>-1.221257</td>\n",
              "      <td>15.577747</td>\n",
              "      <td>0.000156</td>\n",
              "      <td>76.400000</td>\n",
              "      <td>1.220514</td>\n",
              "      <td>77.000000</td>\n",
              "      <td>-0.837560</td>\n",
              "      <td>2292.000000</td>\n",
              "      <td>2.299370</td>\n",
              "      <td>0.751249</td>\n",
              "      <td>0.023243</td>\n",
              "      <td>0.752171</td>\n",
              "      <td>-0.698495</td>\n",
              "      <td>22.537467</td>\n",
              "      <td>0.000952</td>\n",
              "      <td>33.820000</td>\n",
              "      <td>0</td>\n",
              "    </tr>\n",
              "  </tbody>\n",
              "</table>\n",
              "<p>632 rows × 20 columns</p>\n",
              "</div>"
            ],
            "text/plain": [
              "     gsr_mean   gsr_var   gsr_med  ...     rr_ps  temp_initial  label\n",
              "0    1.629602  0.023946  1.633575  ...  0.000989     33.619999      0\n",
              "1    0.574807  0.122610  0.655739  ...  0.006959     34.290001      1\n",
              "2    1.020229  0.032426  1.039323  ...  0.008351     32.040001      1\n",
              "3    1.507063  0.052266  1.504966  ...  0.001574     35.009998      0\n",
              "4    0.378422  0.002689  0.377606  ...  0.008772     31.900000      1\n",
              "..        ...       ...       ...  ...       ...           ...    ...\n",
              "627  3.120945  0.025381  3.105660  ...  0.031894     31.760000      0\n",
              "628  2.678209  0.007556  2.677381  ...  0.006209     32.549999      1\n",
              "629  1.228856  0.018503  1.228508  ...  0.001117     32.880001      0\n",
              "630  0.659290  0.003409  0.659197  ...  0.001536     34.270000      0\n",
              "631  0.519258  0.017714  0.512998  ...  0.000952     33.820000      0\n",
              "\n",
              "[632 rows x 20 columns]"
            ]
          },
          "metadata": {
            "tags": []
          },
          "execution_count": 385
        }
      ]
    },
    {
      "cell_type": "code",
      "metadata": {
        "id": "ToESW1ygnOMO",
        "colab_type": "code",
        "colab": {
          "base_uri": "https://localhost:8080/",
          "height": 51
        },
        "outputId": "f6a80708-2268-44a2-9648-8ddb0f580e61"
      },
      "source": [
        "np.corrcoef(hr_ps,gsr_ps)"
      ],
      "execution_count": 386,
      "outputs": [
        {
          "output_type": "execute_result",
          "data": {
            "text/plain": [
              "array([[ 1.        , -0.03569933],\n",
              "       [-0.03569933,  1.        ]])"
            ]
          },
          "metadata": {
            "tags": []
          },
          "execution_count": 386
        }
      ]
    },
    {
      "cell_type": "code",
      "metadata": {
        "id": "2CYGptUHrgs6",
        "colab_type": "code",
        "colab": {}
      },
      "source": [
        "cv = StratifiedKFold(5, shuffle = True, random_state=SEED)\n",
        "inner_cv = StratifiedKFold(5, shuffle = True, random_state=SEED)\n",
        "outer_cv = StratifiedKFold(5, shuffle = True, random_state=SEED)"
      ],
      "execution_count": 387,
      "outputs": []
    },
    {
      "cell_type": "code",
      "metadata": {
        "id": "tbwPI3u71cLe",
        "colab_type": "code",
        "colab": {}
      },
      "source": [
        "y = df['label']\n",
        "X = df.drop(columns = 'label')\n",
        "X_train, X_test, y_train, y_test = train_test_split(X,y, stratify = y, test_size=0.15,random_state=SEED)"
      ],
      "execution_count": 391,
      "outputs": []
    },
    {
      "cell_type": "code",
      "metadata": {
        "id": "1Th7z2NGoVGM",
        "colab_type": "code",
        "colab": {
          "base_uri": "https://localhost:8080/",
          "height": 1000
        },
        "outputId": "4e0d6c66-a273-40c5-96c3-3b937e242f00"
      },
      "source": [
        "dict_clf = { 'C': [2,7.5,8.0,9.0,10.0,12.0] ,\n",
        "             'penalty': ['l2','l1'],\n",
        "             'fit_intercept': [True, False]\n",
        "}\n",
        "clf = GridSearchCV(estimator = LogisticRegression(max_iter=1000, random_state=SEED),\n",
        "                        param_grid = dict_clf,\n",
        "                        cv = cv,\n",
        "                        n_jobs=-1\n",
        "                        )\n",
        "\n",
        "clf.fit(X_train,y_train)\n",
        "clf.score(X_train,y_train) , clf.score(X_test, y_test), clf.best_estimator_"
      ],
      "execution_count": 392,
      "outputs": [
        {
          "output_type": "error",
          "ename": "ValueError",
          "evalue": "ignored",
          "traceback": [
            "\u001b[0;31m---------------------------------------------------------------------------\u001b[0m",
            "\u001b[0;31mValueError\u001b[0m                                Traceback (most recent call last)",
            "\u001b[0;32m<ipython-input-392-c562e9f5cfbf>\u001b[0m in \u001b[0;36m<module>\u001b[0;34m()\u001b[0m\n\u001b[1;32m      9\u001b[0m                         )\n\u001b[1;32m     10\u001b[0m \u001b[0;34m\u001b[0m\u001b[0m\n\u001b[0;32m---> 11\u001b[0;31m \u001b[0mclf\u001b[0m\u001b[0;34m.\u001b[0m\u001b[0mfit\u001b[0m\u001b[0;34m(\u001b[0m\u001b[0mX_train\u001b[0m\u001b[0;34m,\u001b[0m\u001b[0my_train\u001b[0m\u001b[0;34m)\u001b[0m\u001b[0;34m\u001b[0m\u001b[0;34m\u001b[0m\u001b[0m\n\u001b[0m\u001b[1;32m     12\u001b[0m \u001b[0mclf\u001b[0m\u001b[0;34m.\u001b[0m\u001b[0mscore\u001b[0m\u001b[0;34m(\u001b[0m\u001b[0mX_train\u001b[0m\u001b[0;34m,\u001b[0m\u001b[0my_train\u001b[0m\u001b[0;34m)\u001b[0m \u001b[0;34m,\u001b[0m \u001b[0mclf\u001b[0m\u001b[0;34m.\u001b[0m\u001b[0mscore\u001b[0m\u001b[0;34m(\u001b[0m\u001b[0mX_test\u001b[0m\u001b[0;34m,\u001b[0m \u001b[0my_test\u001b[0m\u001b[0;34m)\u001b[0m\u001b[0;34m,\u001b[0m \u001b[0mclf\u001b[0m\u001b[0;34m.\u001b[0m\u001b[0mbest_estimator_\u001b[0m\u001b[0;34m\u001b[0m\u001b[0;34m\u001b[0m\u001b[0m\n",
            "\u001b[0;32m/usr/local/lib/python3.6/dist-packages/sklearn/model_selection/_search.py\u001b[0m in \u001b[0;36mfit\u001b[0;34m(self, X, y, groups, **fit_params)\u001b[0m\n\u001b[1;32m    737\u001b[0m             \u001b[0mrefit_start_time\u001b[0m \u001b[0;34m=\u001b[0m \u001b[0mtime\u001b[0m\u001b[0;34m.\u001b[0m\u001b[0mtime\u001b[0m\u001b[0;34m(\u001b[0m\u001b[0;34m)\u001b[0m\u001b[0;34m\u001b[0m\u001b[0;34m\u001b[0m\u001b[0m\n\u001b[1;32m    738\u001b[0m             \u001b[0;32mif\u001b[0m \u001b[0my\u001b[0m \u001b[0;32mis\u001b[0m \u001b[0;32mnot\u001b[0m \u001b[0;32mNone\u001b[0m\u001b[0;34m:\u001b[0m\u001b[0;34m\u001b[0m\u001b[0;34m\u001b[0m\u001b[0m\n\u001b[0;32m--> 739\u001b[0;31m                 \u001b[0mself\u001b[0m\u001b[0;34m.\u001b[0m\u001b[0mbest_estimator_\u001b[0m\u001b[0;34m.\u001b[0m\u001b[0mfit\u001b[0m\u001b[0;34m(\u001b[0m\u001b[0mX\u001b[0m\u001b[0;34m,\u001b[0m \u001b[0my\u001b[0m\u001b[0;34m,\u001b[0m \u001b[0;34m**\u001b[0m\u001b[0mfit_params\u001b[0m\u001b[0;34m)\u001b[0m\u001b[0;34m\u001b[0m\u001b[0;34m\u001b[0m\u001b[0m\n\u001b[0m\u001b[1;32m    740\u001b[0m             \u001b[0;32melse\u001b[0m\u001b[0;34m:\u001b[0m\u001b[0;34m\u001b[0m\u001b[0;34m\u001b[0m\u001b[0m\n\u001b[1;32m    741\u001b[0m                 \u001b[0mself\u001b[0m\u001b[0;34m.\u001b[0m\u001b[0mbest_estimator_\u001b[0m\u001b[0;34m.\u001b[0m\u001b[0mfit\u001b[0m\u001b[0;34m(\u001b[0m\u001b[0mX\u001b[0m\u001b[0;34m,\u001b[0m \u001b[0;34m**\u001b[0m\u001b[0mfit_params\u001b[0m\u001b[0;34m)\u001b[0m\u001b[0;34m\u001b[0m\u001b[0;34m\u001b[0m\u001b[0m\n",
            "\u001b[0;32m/usr/local/lib/python3.6/dist-packages/sklearn/linear_model/_logistic.py\u001b[0m in \u001b[0;36mfit\u001b[0;34m(self, X, y, sample_weight)\u001b[0m\n\u001b[1;32m   1525\u001b[0m \u001b[0;34m\u001b[0m\u001b[0m\n\u001b[1;32m   1526\u001b[0m         X, y = check_X_y(X, y, accept_sparse='csr', dtype=_dtype, order=\"C\",\n\u001b[0;32m-> 1527\u001b[0;31m                          accept_large_sparse=solver != 'liblinear')\n\u001b[0m\u001b[1;32m   1528\u001b[0m         \u001b[0mcheck_classification_targets\u001b[0m\u001b[0;34m(\u001b[0m\u001b[0my\u001b[0m\u001b[0;34m)\u001b[0m\u001b[0;34m\u001b[0m\u001b[0;34m\u001b[0m\u001b[0m\n\u001b[1;32m   1529\u001b[0m         \u001b[0mself\u001b[0m\u001b[0;34m.\u001b[0m\u001b[0mclasses_\u001b[0m \u001b[0;34m=\u001b[0m \u001b[0mnp\u001b[0m\u001b[0;34m.\u001b[0m\u001b[0munique\u001b[0m\u001b[0;34m(\u001b[0m\u001b[0my\u001b[0m\u001b[0;34m)\u001b[0m\u001b[0;34m\u001b[0m\u001b[0;34m\u001b[0m\u001b[0m\n",
            "\u001b[0;32m/usr/local/lib/python3.6/dist-packages/sklearn/utils/validation.py\u001b[0m in \u001b[0;36mcheck_X_y\u001b[0;34m(X, y, accept_sparse, accept_large_sparse, dtype, order, copy, force_all_finite, ensure_2d, allow_nd, multi_output, ensure_min_samples, ensure_min_features, y_numeric, warn_on_dtype, estimator)\u001b[0m\n\u001b[1;32m    753\u001b[0m                     \u001b[0mensure_min_features\u001b[0m\u001b[0;34m=\u001b[0m\u001b[0mensure_min_features\u001b[0m\u001b[0;34m,\u001b[0m\u001b[0;34m\u001b[0m\u001b[0;34m\u001b[0m\u001b[0m\n\u001b[1;32m    754\u001b[0m                     \u001b[0mwarn_on_dtype\u001b[0m\u001b[0;34m=\u001b[0m\u001b[0mwarn_on_dtype\u001b[0m\u001b[0;34m,\u001b[0m\u001b[0;34m\u001b[0m\u001b[0;34m\u001b[0m\u001b[0m\n\u001b[0;32m--> 755\u001b[0;31m                     estimator=estimator)\n\u001b[0m\u001b[1;32m    756\u001b[0m     \u001b[0;32mif\u001b[0m \u001b[0mmulti_output\u001b[0m\u001b[0;34m:\u001b[0m\u001b[0;34m\u001b[0m\u001b[0;34m\u001b[0m\u001b[0m\n\u001b[1;32m    757\u001b[0m         y = check_array(y, 'csr', force_all_finite=True, ensure_2d=False,\n",
            "\u001b[0;32m/usr/local/lib/python3.6/dist-packages/sklearn/utils/validation.py\u001b[0m in \u001b[0;36mcheck_array\u001b[0;34m(array, accept_sparse, accept_large_sparse, dtype, order, copy, force_all_finite, ensure_2d, allow_nd, ensure_min_samples, ensure_min_features, warn_on_dtype, estimator)\u001b[0m\n\u001b[1;32m    554\u001b[0m                     \u001b[0;34m\"Reshape your data either using array.reshape(-1, 1) if \"\u001b[0m\u001b[0;34m\u001b[0m\u001b[0;34m\u001b[0m\u001b[0m\n\u001b[1;32m    555\u001b[0m                     \u001b[0;34m\"your data has a single feature or array.reshape(1, -1) \"\u001b[0m\u001b[0;34m\u001b[0m\u001b[0;34m\u001b[0m\u001b[0m\n\u001b[0;32m--> 556\u001b[0;31m                     \"if it contains a single sample.\".format(array))\n\u001b[0m\u001b[1;32m    557\u001b[0m \u001b[0;34m\u001b[0m\u001b[0m\n\u001b[1;32m    558\u001b[0m         \u001b[0;31m# in the future np.flexible dtypes will be handled like object dtypes\u001b[0m\u001b[0;34m\u001b[0m\u001b[0;34m\u001b[0m\u001b[0;34m\u001b[0m\u001b[0m\n",
            "\u001b[0;31mValueError\u001b[0m: Expected 2D array, got 1D array instead:\narray=[30.92000008 32.88000107 29.46999931 34.22999954 32.88000107 32.45999908\n 32.77000046 31.14999962 33.38000107 32.91999817 31.70000076 32.68000031\n 30.62999916 33.11999893 34.38999939 34.40000153 30.40999985 30.48999977\n 32.59000015 30.70999908 30.45999908 33.59999847 31.72999954 33.70999908\n 32.99000168 34.95999908 33.22999954 31.01000023 32.49000168 34.02000046\n 32.83000183 32.2733345  31.73999977 31.         33.40000153 33.5\n 31.78000069 32.34999847 34.18999863 33.22000122 33.29999924 34.93000031\n 33.09999847 32.11000061 34.27999878 32.70999908 32.50999832 34.77999878\n 31.81999969 33.58000183 33.36999893 30.79999924 31.22999954 32.90000153\n 34.77000046 30.62999916 31.96500015 34.13999939 35.09999847 33.27000046\n 34.88000107 31.70000076 33.68000031 32.61999893 35.00999832 31.67000008\n 32.06999969 31.61000061 34.34000015 33.81999969 34.84999847 33.31999969\n 34.09666824 29.52000046 33.41666667 33.40999985 33.13666789 31.45000076\n 34.43999863 33.56999969 34.45000076 31.64999962 33.72000122 30.85000038\n 31.71999931 34.84666697 33.9266669  34.02999878 32.15000153 32.61999893\n 32.56000137 32.15000153 30.71000036 28.73000018 31.40999985 31.79999924\n 34.65000153 29.46999931 31.11000061 33.63000107 32.58000183 31.87000084\n 32.49000168 32.31000137 33.33000183 34.16999817 29.60000038 32.77000046\n 33.34999847 32.54999924 32.40000153 33.40999985 32.88000107 32.04999924\n 32.15999985 34.33000183 34.79999924 32.34999847 34.45000076 31.72999954\n 34.54000092 34.38000107 31.86000061 32.68000031 33.50999832 32.91999817\n 30.43000031 34.86000061 32.49000168 34.84000015 32.22000122 34.15999985\n 33.43999863 34.74000168 34.84000015 31.75       31.38333321 30.43000031\n 32.06999969 30.6899999  35.11999893 31.57666651 33.41999817 31.84000015\n 29.45000076 32.66999817 31.78000069 33.77000046 34.70000076 30.43000031\n 29.43000031 34.40000153 33.36999893 32.50999832 30.77000046 33.41999817\n 31.18000031 31.96999931 32.50999832 34.11000061 32.50999832 33.20999908\n 33.79999924 32.5        31.26000023 33.40999985 33.16999817 32.58000183\n 31.62999916 32.43999863 32.18000031 31.65666644 30.5        32.63999939\n 32.88000107 31.38999939 30.54000092 31.82999992 34.36000061 32.66999817\n 32.59000015 30.81999969 31.76000023 34.81000137 30.5        33.36999893\n 32.09000015 34.36000061 34.93000031 30.69000053 33.09000015 32.56999969\n 34.14666621 31.64999962 33.29999924 32.40999985 32.68000031 32.22999954\n 33.70000076 32.74000168 34.41999817 32.25999832 31.21999931 32.40999985\n 32.49666723 31.69000053 31.17000008 31.54999924 32.38999939 32.66999817\n 33.20000076 33.09999847 33.75999832 32.86999893 34.84999847 33.90999985\n 34.31000137 32.99000168 32.33000183 32.86000061 33.61999893 30.79000092\n 30.72999954 33.40999985 33.77999878 31.79999924 30.43000031 29.14999962\n 34.54999924 32.46333313 30.77000046 34.34999847 32.42666499 34.41999817\n 33.31999969 34.34999847 34.34999847 33.20000076 32.27999878 33.79000092\n 29.31999969 35.04000092 32.72000122 32.13000107 29.43000031 31.62999916\n 32.52000046 34.81000137 34.34000015 32.61000061 30.97999954 34.72999954\n 32.59999847 34.38999939 30.87000084 32.58000183 32.61000061 31.79000092\n 34.27000046 35.00999832 32.15000153 32.72999954 33.63999939 31.62999916\n 33.75999832 32.09000015 32.29000092 30.71999931 32.43999863 31.68000031\n 34.50999832 32.77000046 29.45000076 30.76000023 30.87000084 31.78000069\n 30.32999992 32.72000122 30.42000008 31.11000061 33.40999985 33.47999954\n 34.15000153 31.79999924 34.06999969 34.         34.88999939 30.92000008\n 32.52000046 31.87000084 32.5833346  31.29999924 33.72000122 32.13000107\n 33.56666692 33.40999985 34.34999847 33.66333262 33.54000092 32.61000061\n 30.77000046 30.73999977 32.75       32.79000092 34.86999893 32.58000183\n 31.87000084 32.59000015 33.24000168 32.38000107 31.78000069 34.91999817\n 33.56000137 30.47999954 32.91999817 33.33000183 33.03000005 30.63999939\n 32.54999924 31.93000031 33.29000092 33.02999878 32.56999969 34.20999908\n 33.29000092 32.18000031 34.08000183 30.45999908 31.52000046 31.29999924\n 32.59000015 32.79000092 32.54999924 33.95999908 33.95000076 31.79999924\n 33.99000168 33.45000076 32.56000137 33.40999985 32.74000168 31.10000038\n 31.54999924 31.11333275 33.61999893 34.13000107 34.11000061 30.79999924\n 31.29000092 33.25       32.81999969 33.75       34.79999924 29.93000031\n 31.37000084 32.56000137 32.54999924 32.43999863 32.11000061 32.02000046\n 32.63999939 31.40999985 32.47000122 30.77000046 31.26000023 31.62000084\n 34.90999985 31.29999924 29.46999931 29.38999939 32.22000122 32.70999908\n 32.90000153 31.17000008 29.48999977 32.25       30.52000046 33.0966657\n 32.74000168 34.02000046 31.21999931 35.09999847 31.11000061 32.61999893\n 32.33000183 32.68000031 32.81999969 34.18999863 31.22999954 33.72999954\n 30.72999954 32.31000137 33.47000122 32.24000168 31.23999977 34.\n 30.79000092 31.57999992 32.02000046 32.90000153 31.78000069 30.76000023\n 34.38000107 30.81999969 31.46000036 33.31999969 32.43999863 30.90999985\n 34.04000092 34.47999954 32.43999863 32.61000061 32.56999969 33.34999847\n 32.83000183 32.56999969 34.08000183 32.95000076 32.18999863 30.65999985\n 33.84000015 34.79999924 33.24000168 32.08000183 34.20000076 32.33000183\n 34.41999817 32.61999893 32.93000031 34.20000076 31.47999954 34.22999954\n 34.40000153 34.84000015 32.75       32.04000092 33.38999939 33.36999893\n 31.94000053 33.49000168 31.38999939 32.91999817 30.81999969 30.76000023\n 31.68000031 32.54999924 32.61999893 34.43000031 32.36999893 31.79000092\n 29.46999931 32.97999954 33.54999924 32.54999924 33.72000122 32.70000076\n 30.70000076 34.20000076 30.70000076 32.41333262 32.36999893 31.88999939\n 29.43000031 30.69000053 34.13000107 32.27999878 32.58000183 32.31000137\n 31.19000053 32.91999817 31.70999908 32.41333262 35.13000107 33.77999878\n 32.52000046 33.15000153 30.7166659  33.45999908 33.93000031 33.09999847\n 31.62999916 32.56999969 32.11000061 32.38000107 32.31999969 32.22000122\n 32.54999924 31.81999969 32.84999847 33.79000092 34.09999847 32.11000061\n 30.86000061 34.72999954 32.47999954 33.50999832 35.09000015 33.49000168\n 32.90000153 35.04999924 32.58000183 34.16999817 31.03000069 33.63999939\n 33.77999878 34.24000168 31.60000038 30.90333303 30.42000008 32.40000153\n 30.57999992 34.08000183 32.49000168 30.85000038 34.34999847 34.79000092\n 34.34999847 33.40999985 33.88999939 32.63000107 31.38999939 33.63000107\n 32.46333313 34.84999847 32.49000168 30.79999924 30.85000038 33.70999908\n 34.02000046 33.         34.41999817 34.79000092 32.97000122 32.84999847\n 34.45999908 32.11000061 32.5       ].\nReshape your data either using array.reshape(-1, 1) if your data has a single feature or array.reshape(1, -1) if it contains a single sample."
          ]
        }
      ]
    },
    {
      "cell_type": "code",
      "metadata": {
        "id": "SaOxetbP804O",
        "colab_type": "code",
        "colab": {
          "base_uri": "https://localhost:8080/",
          "height": 34
        },
        "outputId": "d4500630-f4f7-48cb-f4b3-c5b7cff3ad2d"
      },
      "source": [
        "cross_val_score(clf.best_estimator_,  X=X, y=y, cv=outer_cv).mean()"
      ],
      "execution_count": 390,
      "outputs": [
        {
          "output_type": "execute_result",
          "data": {
            "text/plain": [
              "0.5821647294088239"
            ]
          },
          "metadata": {
            "tags": []
          },
          "execution_count": 390
        }
      ]
    },
    {
      "cell_type": "code",
      "metadata": {
        "id": "hee5jZyuoloJ",
        "colab_type": "code",
        "colab": {
          "base_uri": "https://localhost:8080/",
          "height": 170
        },
        "outputId": "f8342e0b-e9c4-45de-c2ad-d29d58eca8a8"
      },
      "source": [
        "dict_clf = { 'max_depth': [8,15,12,20] ,\n",
        "             'learning_rate': [0.1,1,2.0],\n",
        "            'n_estimators': [5,10,100,150],\n",
        "            'reg_lambda':[10,100,150,200]\n",
        "}\n",
        "clf = GridSearchCV(estimator = xgb.XGBClassifier(n_jobs=-1, random_state=SEED),\n",
        "                        param_grid = dict_clf,\n",
        "                        cv = cv,\n",
        "                        n_jobs=-1\n",
        "                        )\n",
        "\n",
        "clf.fit(X_train,y_train)\n",
        "clf.score(X_train,y_train) , clf.score(X_test, y_test), clf.best_estimator_"
      ],
      "execution_count": 355,
      "outputs": [
        {
          "output_type": "execute_result",
          "data": {
            "text/plain": [
              "(0.8361266294227188,\n",
              " 0.5894736842105263,\n",
              " XGBClassifier(base_score=0.5, booster='gbtree', colsample_bylevel=1,\n",
              "               colsample_bynode=1, colsample_bytree=1, gamma=0, learning_rate=1,\n",
              "               max_delta_step=0, max_depth=8, min_child_weight=1, missing=None,\n",
              "               n_estimators=10, n_jobs=-1, nthread=None,\n",
              "               objective='binary:logistic', random_state=1729, reg_alpha=0,\n",
              "               reg_lambda=100, scale_pos_weight=1, seed=None, silent=None,\n",
              "               subsample=1, verbosity=1))"
            ]
          },
          "metadata": {
            "tags": []
          },
          "execution_count": 355
        }
      ]
    },
    {
      "cell_type": "code",
      "metadata": {
        "id": "40cjXHZJ9OBe",
        "colab_type": "code",
        "colab": {
          "base_uri": "https://localhost:8080/",
          "height": 34
        },
        "outputId": "202b07cf-7ad6-456a-96a1-fe11b9db0145"
      },
      "source": [
        " cross_val_score(clf.best_estimator_, X=X, y=y, cv=outer_cv).mean()"
      ],
      "execution_count": 356,
      "outputs": [
        {
          "output_type": "execute_result",
          "data": {
            "text/plain": [
              "0.6264966879140108"
            ]
          },
          "metadata": {
            "tags": []
          },
          "execution_count": 356
        }
      ]
    },
    {
      "cell_type": "code",
      "metadata": {
        "id": "Bu26NF_oGMiR",
        "colab_type": "code",
        "colab": {
          "base_uri": "https://localhost:8080/",
          "height": 34
        },
        "outputId": "d86da547-334d-4ebf-816c-67da6f923d9f"
      },
      "source": [
        "# nested cross-validation\n",
        "clf = GridSearchCV(estimator = xgb.XGBClassifier(n_jobs=-1, random_state=SEED),\n",
        "                   param_grid = dict_clf,cv = inner_cv,n_jobs=-1\n",
        "                    )\n",
        "\n",
        "cross_val_score(estimator =clf, X=X, y=y, cv=outer_cv).mean()"
      ],
      "execution_count": 357,
      "outputs": [
        {
          "output_type": "execute_result",
          "data": {
            "text/plain": [
              "0.6059367579052618"
            ]
          },
          "metadata": {
            "tags": []
          },
          "execution_count": 357
        }
      ]
    },
    {
      "cell_type": "markdown",
      "metadata": {
        "id": "Ea3XpN2PYmPU",
        "colab_type": "text"
      },
      "source": [
        "## Extra Trees"
      ]
    },
    {
      "cell_type": "code",
      "metadata": {
        "id": "xDK70izb054L",
        "colab_type": "code",
        "colab": {
          "base_uri": "https://localhost:8080/",
          "height": 187
        },
        "outputId": "9cc28132-9c50-4c37-ab69-3cf11f53e767"
      },
      "source": [
        "dict_clf = { 'max_depth': [10,12,18] ,\n",
        "            'criterion': ['gini'],\n",
        "            'n_estimators': [100,150,200,250],\n",
        "             'min_samples_split': [3,5,8],\n",
        "            'min_samples_leaf': [1,3],\n",
        "            'max_features': ['sqrt','auto', 0.3]\n",
        "}\n",
        "clf = GridSearchCV(estimator = ExtraTreesClassifier(n_jobs=-1, random_state= SEED),\n",
        "                        param_grid = dict_clf,\n",
        "                        cv = cv,\n",
        "                        n_jobs=-1\n",
        "                        )\n",
        "\n",
        "clf.fit(X_train,y_train)\n",
        "clf.score(X_train,y_train) , clf.score(X_test, y_test), clf.best_estimator_ "
      ],
      "execution_count": 251,
      "outputs": [
        {
          "output_type": "execute_result",
          "data": {
            "text/plain": [
              "(0.9832402234636871,\n",
              " 0.5263157894736842,\n",
              " ExtraTreesClassifier(bootstrap=False, ccp_alpha=0.0, class_weight=None,\n",
              "                      criterion='gini', max_depth=12, max_features=0.3,\n",
              "                      max_leaf_nodes=None, max_samples=None,\n",
              "                      min_impurity_decrease=0.0, min_impurity_split=None,\n",
              "                      min_samples_leaf=1, min_samples_split=5,\n",
              "                      min_weight_fraction_leaf=0.0, n_estimators=150, n_jobs=-1,\n",
              "                      oob_score=False, random_state=1729, verbose=0,\n",
              "                      warm_start=False))"
            ]
          },
          "metadata": {
            "tags": []
          },
          "execution_count": 251
        }
      ]
    },
    {
      "cell_type": "code",
      "metadata": {
        "id": "cSLLHTz4_ypM",
        "colab_type": "code",
        "colab": {
          "base_uri": "https://localhost:8080/",
          "height": 34
        },
        "outputId": "60cb286b-7056-442b-e72f-a1f5094e183e"
      },
      "source": [
        " cross_val_score(ExtraTreesClassifier(bootstrap=False, ccp_alpha=0.0, class_weight=None,\n",
        "                      criterion='entropy', max_depth=10, max_features='sqrt',\n",
        "                      max_leaf_nodes=None, max_samples=None,\n",
        "                      min_impurity_decrease=0.0, min_impurity_split=None,\n",
        "                      min_samples_leaf=1, min_samples_split=5,\n",
        "                      min_weight_fraction_leaf=0.0, n_estimators=100, n_jobs=-1,\n",
        "                      oob_score=False, random_state=1729, verbose=0,\n",
        "                      warm_start=False),  \n",
        "               X=X, y=y, cv=outer_cv, scoring='accuracy').mean()"
      ],
      "execution_count": 252,
      "outputs": [
        {
          "output_type": "execute_result",
          "data": {
            "text/plain": [
              "0.6264591926009249"
            ]
          },
          "metadata": {
            "tags": []
          },
          "execution_count": 252
        }
      ]
    },
    {
      "cell_type": "code",
      "metadata": {
        "id": "2ON0kwxcNW8G",
        "colab_type": "code",
        "colab": {
          "base_uri": "https://localhost:8080/",
          "height": 341
        },
        "outputId": "e096848b-b248-4c2b-d032-30cc110af97c"
      },
      "source": [
        "# nested cross-validation\n",
        "clf = GridSearchCV(estimator = ExtraTreesClassifier(n_jobs=-1, random_state= SEED),\n",
        "                   param_grid = dict_clf,cv = inner_cv,n_jobs=-1\n",
        "                    )\n",
        "\n",
        "cross_val_score(estimator =clf, X=X, y=y, cv=outer_cv).mean()"
      ],
      "execution_count": 183,
      "outputs": [
        {
          "output_type": "error",
          "ename": "KeyboardInterrupt",
          "evalue": "ignored",
          "traceback": [
            "\u001b[0;31m---------------------------------------------------------------------------\u001b[0m",
            "\u001b[0;31mKeyboardInterrupt\u001b[0m                         Traceback (most recent call last)",
            "\u001b[0;32m<ipython-input-183-7805498e92e6>\u001b[0m in \u001b[0;36m<module>\u001b[0;34m()\u001b[0m\n\u001b[1;32m      4\u001b[0m                     )\n\u001b[1;32m      5\u001b[0m \u001b[0;34m\u001b[0m\u001b[0m\n\u001b[0;32m----> 6\u001b[0;31m \u001b[0mcross_val_score\u001b[0m\u001b[0;34m(\u001b[0m\u001b[0mestimator\u001b[0m \u001b[0;34m=\u001b[0m\u001b[0mclf\u001b[0m\u001b[0;34m,\u001b[0m \u001b[0mX\u001b[0m\u001b[0;34m=\u001b[0m\u001b[0mX\u001b[0m\u001b[0;34m,\u001b[0m \u001b[0my\u001b[0m\u001b[0;34m=\u001b[0m\u001b[0my\u001b[0m\u001b[0;34m,\u001b[0m \u001b[0mcv\u001b[0m\u001b[0;34m=\u001b[0m\u001b[0mouter_cv\u001b[0m\u001b[0;34m)\u001b[0m\u001b[0;34m.\u001b[0m\u001b[0mmean\u001b[0m\u001b[0;34m(\u001b[0m\u001b[0;34m)\u001b[0m\u001b[0;34m\u001b[0m\u001b[0;34m\u001b[0m\u001b[0m\n\u001b[0m",
            "\u001b[0;32m/usr/local/lib/python3.6/dist-packages/sklearn/model_selection/_validation.py\u001b[0m in \u001b[0;36mcross_val_score\u001b[0;34m(estimator, X, y, groups, scoring, cv, n_jobs, verbose, fit_params, pre_dispatch, error_score)\u001b[0m\n\u001b[1;32m    388\u001b[0m                                 \u001b[0mfit_params\u001b[0m\u001b[0;34m=\u001b[0m\u001b[0mfit_params\u001b[0m\u001b[0;34m,\u001b[0m\u001b[0;34m\u001b[0m\u001b[0;34m\u001b[0m\u001b[0m\n\u001b[1;32m    389\u001b[0m                                 \u001b[0mpre_dispatch\u001b[0m\u001b[0;34m=\u001b[0m\u001b[0mpre_dispatch\u001b[0m\u001b[0;34m,\u001b[0m\u001b[0;34m\u001b[0m\u001b[0;34m\u001b[0m\u001b[0m\n\u001b[0;32m--> 390\u001b[0;31m                                 error_score=error_score)\n\u001b[0m\u001b[1;32m    391\u001b[0m     \u001b[0;32mreturn\u001b[0m \u001b[0mcv_results\u001b[0m\u001b[0;34m[\u001b[0m\u001b[0;34m'test_score'\u001b[0m\u001b[0;34m]\u001b[0m\u001b[0;34m\u001b[0m\u001b[0;34m\u001b[0m\u001b[0m\n\u001b[1;32m    392\u001b[0m \u001b[0;34m\u001b[0m\u001b[0m\n",
            "\u001b[0;32m/usr/local/lib/python3.6/dist-packages/sklearn/model_selection/_validation.py\u001b[0m in \u001b[0;36mcross_validate\u001b[0;34m(estimator, X, y, groups, scoring, cv, n_jobs, verbose, fit_params, pre_dispatch, return_train_score, return_estimator, error_score)\u001b[0m\n\u001b[1;32m    234\u001b[0m             \u001b[0mreturn_times\u001b[0m\u001b[0;34m=\u001b[0m\u001b[0;32mTrue\u001b[0m\u001b[0;34m,\u001b[0m \u001b[0mreturn_estimator\u001b[0m\u001b[0;34m=\u001b[0m\u001b[0mreturn_estimator\u001b[0m\u001b[0;34m,\u001b[0m\u001b[0;34m\u001b[0m\u001b[0;34m\u001b[0m\u001b[0m\n\u001b[1;32m    235\u001b[0m             error_score=error_score)\n\u001b[0;32m--> 236\u001b[0;31m         for train, test in cv.split(X, y, groups))\n\u001b[0m\u001b[1;32m    237\u001b[0m \u001b[0;34m\u001b[0m\u001b[0m\n\u001b[1;32m    238\u001b[0m     \u001b[0mzipped_scores\u001b[0m \u001b[0;34m=\u001b[0m \u001b[0mlist\u001b[0m\u001b[0;34m(\u001b[0m\u001b[0mzip\u001b[0m\u001b[0;34m(\u001b[0m\u001b[0;34m*\u001b[0m\u001b[0mscores\u001b[0m\u001b[0;34m)\u001b[0m\u001b[0;34m)\u001b[0m\u001b[0;34m\u001b[0m\u001b[0;34m\u001b[0m\u001b[0m\n",
            "\u001b[0;32m/usr/local/lib/python3.6/dist-packages/joblib/parallel.py\u001b[0m in \u001b[0;36m__call__\u001b[0;34m(self, iterable)\u001b[0m\n\u001b[1;32m   1030\u001b[0m                 \u001b[0mself\u001b[0m\u001b[0;34m.\u001b[0m\u001b[0m_iterating\u001b[0m \u001b[0;34m=\u001b[0m \u001b[0mself\u001b[0m\u001b[0;34m.\u001b[0m\u001b[0m_original_iterator\u001b[0m \u001b[0;32mis\u001b[0m \u001b[0;32mnot\u001b[0m \u001b[0;32mNone\u001b[0m\u001b[0;34m\u001b[0m\u001b[0;34m\u001b[0m\u001b[0m\n\u001b[1;32m   1031\u001b[0m \u001b[0;34m\u001b[0m\u001b[0m\n\u001b[0;32m-> 1032\u001b[0;31m             \u001b[0;32mwhile\u001b[0m \u001b[0mself\u001b[0m\u001b[0;34m.\u001b[0m\u001b[0mdispatch_one_batch\u001b[0m\u001b[0;34m(\u001b[0m\u001b[0miterator\u001b[0m\u001b[0;34m)\u001b[0m\u001b[0;34m:\u001b[0m\u001b[0;34m\u001b[0m\u001b[0;34m\u001b[0m\u001b[0m\n\u001b[0m\u001b[1;32m   1033\u001b[0m                 \u001b[0;32mpass\u001b[0m\u001b[0;34m\u001b[0m\u001b[0;34m\u001b[0m\u001b[0m\n\u001b[1;32m   1034\u001b[0m \u001b[0;34m\u001b[0m\u001b[0m\n",
            "\u001b[0;32m/usr/local/lib/python3.6/dist-packages/joblib/parallel.py\u001b[0m in \u001b[0;36mdispatch_one_batch\u001b[0;34m(self, iterator)\u001b[0m\n\u001b[1;32m    845\u001b[0m                 \u001b[0;32mreturn\u001b[0m \u001b[0;32mFalse\u001b[0m\u001b[0;34m\u001b[0m\u001b[0;34m\u001b[0m\u001b[0m\n\u001b[1;32m    846\u001b[0m             \u001b[0;32melse\u001b[0m\u001b[0;34m:\u001b[0m\u001b[0;34m\u001b[0m\u001b[0;34m\u001b[0m\u001b[0m\n\u001b[0;32m--> 847\u001b[0;31m                 \u001b[0mself\u001b[0m\u001b[0;34m.\u001b[0m\u001b[0m_dispatch\u001b[0m\u001b[0;34m(\u001b[0m\u001b[0mtasks\u001b[0m\u001b[0;34m)\u001b[0m\u001b[0;34m\u001b[0m\u001b[0;34m\u001b[0m\u001b[0m\n\u001b[0m\u001b[1;32m    848\u001b[0m                 \u001b[0;32mreturn\u001b[0m \u001b[0;32mTrue\u001b[0m\u001b[0;34m\u001b[0m\u001b[0;34m\u001b[0m\u001b[0m\n\u001b[1;32m    849\u001b[0m \u001b[0;34m\u001b[0m\u001b[0m\n",
            "\u001b[0;32m/usr/local/lib/python3.6/dist-packages/joblib/parallel.py\u001b[0m in \u001b[0;36m_dispatch\u001b[0;34m(self, batch)\u001b[0m\n\u001b[1;32m    763\u001b[0m         \u001b[0;32mwith\u001b[0m \u001b[0mself\u001b[0m\u001b[0;34m.\u001b[0m\u001b[0m_lock\u001b[0m\u001b[0;34m:\u001b[0m\u001b[0;34m\u001b[0m\u001b[0;34m\u001b[0m\u001b[0m\n\u001b[1;32m    764\u001b[0m             \u001b[0mjob_idx\u001b[0m \u001b[0;34m=\u001b[0m \u001b[0mlen\u001b[0m\u001b[0;34m(\u001b[0m\u001b[0mself\u001b[0m\u001b[0;34m.\u001b[0m\u001b[0m_jobs\u001b[0m\u001b[0;34m)\u001b[0m\u001b[0;34m\u001b[0m\u001b[0;34m\u001b[0m\u001b[0m\n\u001b[0;32m--> 765\u001b[0;31m             \u001b[0mjob\u001b[0m \u001b[0;34m=\u001b[0m \u001b[0mself\u001b[0m\u001b[0;34m.\u001b[0m\u001b[0m_backend\u001b[0m\u001b[0;34m.\u001b[0m\u001b[0mapply_async\u001b[0m\u001b[0;34m(\u001b[0m\u001b[0mbatch\u001b[0m\u001b[0;34m,\u001b[0m \u001b[0mcallback\u001b[0m\u001b[0;34m=\u001b[0m\u001b[0mcb\u001b[0m\u001b[0;34m)\u001b[0m\u001b[0;34m\u001b[0m\u001b[0;34m\u001b[0m\u001b[0m\n\u001b[0m\u001b[1;32m    766\u001b[0m             \u001b[0;31m# A job can complete so quickly than its callback is\u001b[0m\u001b[0;34m\u001b[0m\u001b[0;34m\u001b[0m\u001b[0;34m\u001b[0m\u001b[0m\n\u001b[1;32m    767\u001b[0m             \u001b[0;31m# called before we get here, causing self._jobs to\u001b[0m\u001b[0;34m\u001b[0m\u001b[0;34m\u001b[0m\u001b[0;34m\u001b[0m\u001b[0m\n",
            "\u001b[0;32m/usr/local/lib/python3.6/dist-packages/joblib/_parallel_backends.py\u001b[0m in \u001b[0;36mapply_async\u001b[0;34m(self, func, callback)\u001b[0m\n\u001b[1;32m    204\u001b[0m     \u001b[0;32mdef\u001b[0m \u001b[0mapply_async\u001b[0m\u001b[0;34m(\u001b[0m\u001b[0mself\u001b[0m\u001b[0;34m,\u001b[0m \u001b[0mfunc\u001b[0m\u001b[0;34m,\u001b[0m \u001b[0mcallback\u001b[0m\u001b[0;34m=\u001b[0m\u001b[0;32mNone\u001b[0m\u001b[0;34m)\u001b[0m\u001b[0;34m:\u001b[0m\u001b[0;34m\u001b[0m\u001b[0;34m\u001b[0m\u001b[0m\n\u001b[1;32m    205\u001b[0m         \u001b[0;34m\"\"\"Schedule a func to be run\"\"\"\u001b[0m\u001b[0;34m\u001b[0m\u001b[0;34m\u001b[0m\u001b[0m\n\u001b[0;32m--> 206\u001b[0;31m         \u001b[0mresult\u001b[0m \u001b[0;34m=\u001b[0m \u001b[0mImmediateResult\u001b[0m\u001b[0;34m(\u001b[0m\u001b[0mfunc\u001b[0m\u001b[0;34m)\u001b[0m\u001b[0;34m\u001b[0m\u001b[0;34m\u001b[0m\u001b[0m\n\u001b[0m\u001b[1;32m    207\u001b[0m         \u001b[0;32mif\u001b[0m \u001b[0mcallback\u001b[0m\u001b[0;34m:\u001b[0m\u001b[0;34m\u001b[0m\u001b[0;34m\u001b[0m\u001b[0m\n\u001b[1;32m    208\u001b[0m             \u001b[0mcallback\u001b[0m\u001b[0;34m(\u001b[0m\u001b[0mresult\u001b[0m\u001b[0;34m)\u001b[0m\u001b[0;34m\u001b[0m\u001b[0;34m\u001b[0m\u001b[0m\n",
            "\u001b[0;32m/usr/local/lib/python3.6/dist-packages/joblib/_parallel_backends.py\u001b[0m in \u001b[0;36m__init__\u001b[0;34m(self, batch)\u001b[0m\n\u001b[1;32m    568\u001b[0m         \u001b[0;31m# Don't delay the application, to avoid keeping the input\u001b[0m\u001b[0;34m\u001b[0m\u001b[0;34m\u001b[0m\u001b[0;34m\u001b[0m\u001b[0m\n\u001b[1;32m    569\u001b[0m         \u001b[0;31m# arguments in memory\u001b[0m\u001b[0;34m\u001b[0m\u001b[0;34m\u001b[0m\u001b[0;34m\u001b[0m\u001b[0m\n\u001b[0;32m--> 570\u001b[0;31m         \u001b[0mself\u001b[0m\u001b[0;34m.\u001b[0m\u001b[0mresults\u001b[0m \u001b[0;34m=\u001b[0m \u001b[0mbatch\u001b[0m\u001b[0;34m(\u001b[0m\u001b[0;34m)\u001b[0m\u001b[0;34m\u001b[0m\u001b[0;34m\u001b[0m\u001b[0m\n\u001b[0m\u001b[1;32m    571\u001b[0m \u001b[0;34m\u001b[0m\u001b[0m\n\u001b[1;32m    572\u001b[0m     \u001b[0;32mdef\u001b[0m \u001b[0mget\u001b[0m\u001b[0;34m(\u001b[0m\u001b[0mself\u001b[0m\u001b[0;34m)\u001b[0m\u001b[0;34m:\u001b[0m\u001b[0;34m\u001b[0m\u001b[0;34m\u001b[0m\u001b[0m\n",
            "\u001b[0;32m/usr/local/lib/python3.6/dist-packages/joblib/parallel.py\u001b[0m in \u001b[0;36m__call__\u001b[0;34m(self)\u001b[0m\n\u001b[1;32m    251\u001b[0m         \u001b[0;32mwith\u001b[0m \u001b[0mparallel_backend\u001b[0m\u001b[0;34m(\u001b[0m\u001b[0mself\u001b[0m\u001b[0;34m.\u001b[0m\u001b[0m_backend\u001b[0m\u001b[0;34m,\u001b[0m \u001b[0mn_jobs\u001b[0m\u001b[0;34m=\u001b[0m\u001b[0mself\u001b[0m\u001b[0;34m.\u001b[0m\u001b[0m_n_jobs\u001b[0m\u001b[0;34m)\u001b[0m\u001b[0;34m:\u001b[0m\u001b[0;34m\u001b[0m\u001b[0;34m\u001b[0m\u001b[0m\n\u001b[1;32m    252\u001b[0m             return [func(*args, **kwargs)\n\u001b[0;32m--> 253\u001b[0;31m                     for func, args, kwargs in self.items]\n\u001b[0m\u001b[1;32m    254\u001b[0m \u001b[0;34m\u001b[0m\u001b[0m\n\u001b[1;32m    255\u001b[0m     \u001b[0;32mdef\u001b[0m \u001b[0m__reduce__\u001b[0m\u001b[0;34m(\u001b[0m\u001b[0mself\u001b[0m\u001b[0;34m)\u001b[0m\u001b[0;34m:\u001b[0m\u001b[0;34m\u001b[0m\u001b[0;34m\u001b[0m\u001b[0m\n",
            "\u001b[0;32m/usr/local/lib/python3.6/dist-packages/joblib/parallel.py\u001b[0m in \u001b[0;36m<listcomp>\u001b[0;34m(.0)\u001b[0m\n\u001b[1;32m    251\u001b[0m         \u001b[0;32mwith\u001b[0m \u001b[0mparallel_backend\u001b[0m\u001b[0;34m(\u001b[0m\u001b[0mself\u001b[0m\u001b[0;34m.\u001b[0m\u001b[0m_backend\u001b[0m\u001b[0;34m,\u001b[0m \u001b[0mn_jobs\u001b[0m\u001b[0;34m=\u001b[0m\u001b[0mself\u001b[0m\u001b[0;34m.\u001b[0m\u001b[0m_n_jobs\u001b[0m\u001b[0;34m)\u001b[0m\u001b[0;34m:\u001b[0m\u001b[0;34m\u001b[0m\u001b[0;34m\u001b[0m\u001b[0m\n\u001b[1;32m    252\u001b[0m             return [func(*args, **kwargs)\n\u001b[0;32m--> 253\u001b[0;31m                     for func, args, kwargs in self.items]\n\u001b[0m\u001b[1;32m    254\u001b[0m \u001b[0;34m\u001b[0m\u001b[0m\n\u001b[1;32m    255\u001b[0m     \u001b[0;32mdef\u001b[0m \u001b[0m__reduce__\u001b[0m\u001b[0;34m(\u001b[0m\u001b[0mself\u001b[0m\u001b[0;34m)\u001b[0m\u001b[0;34m:\u001b[0m\u001b[0;34m\u001b[0m\u001b[0;34m\u001b[0m\u001b[0m\n",
            "\u001b[0;32m/usr/local/lib/python3.6/dist-packages/sklearn/model_selection/_validation.py\u001b[0m in \u001b[0;36m_fit_and_score\u001b[0;34m(estimator, X, y, scorer, train, test, verbose, parameters, fit_params, return_train_score, return_parameters, return_n_test_samples, return_times, return_estimator, error_score)\u001b[0m\n\u001b[1;32m    513\u001b[0m             \u001b[0mestimator\u001b[0m\u001b[0;34m.\u001b[0m\u001b[0mfit\u001b[0m\u001b[0;34m(\u001b[0m\u001b[0mX_train\u001b[0m\u001b[0;34m,\u001b[0m \u001b[0;34m**\u001b[0m\u001b[0mfit_params\u001b[0m\u001b[0;34m)\u001b[0m\u001b[0;34m\u001b[0m\u001b[0;34m\u001b[0m\u001b[0m\n\u001b[1;32m    514\u001b[0m         \u001b[0;32melse\u001b[0m\u001b[0;34m:\u001b[0m\u001b[0;34m\u001b[0m\u001b[0;34m\u001b[0m\u001b[0m\n\u001b[0;32m--> 515\u001b[0;31m             \u001b[0mestimator\u001b[0m\u001b[0;34m.\u001b[0m\u001b[0mfit\u001b[0m\u001b[0;34m(\u001b[0m\u001b[0mX_train\u001b[0m\u001b[0;34m,\u001b[0m \u001b[0my_train\u001b[0m\u001b[0;34m,\u001b[0m \u001b[0;34m**\u001b[0m\u001b[0mfit_params\u001b[0m\u001b[0;34m)\u001b[0m\u001b[0;34m\u001b[0m\u001b[0;34m\u001b[0m\u001b[0m\n\u001b[0m\u001b[1;32m    516\u001b[0m \u001b[0;34m\u001b[0m\u001b[0m\n\u001b[1;32m    517\u001b[0m     \u001b[0;32mexcept\u001b[0m \u001b[0mException\u001b[0m \u001b[0;32mas\u001b[0m \u001b[0me\u001b[0m\u001b[0;34m:\u001b[0m\u001b[0;34m\u001b[0m\u001b[0;34m\u001b[0m\u001b[0m\n",
            "\u001b[0;32m/usr/local/lib/python3.6/dist-packages/sklearn/model_selection/_search.py\u001b[0m in \u001b[0;36mfit\u001b[0;34m(self, X, y, groups, **fit_params)\u001b[0m\n\u001b[1;32m    708\u001b[0m                 \u001b[0;32mreturn\u001b[0m \u001b[0mresults\u001b[0m\u001b[0;34m\u001b[0m\u001b[0;34m\u001b[0m\u001b[0m\n\u001b[1;32m    709\u001b[0m \u001b[0;34m\u001b[0m\u001b[0m\n\u001b[0;32m--> 710\u001b[0;31m             \u001b[0mself\u001b[0m\u001b[0;34m.\u001b[0m\u001b[0m_run_search\u001b[0m\u001b[0;34m(\u001b[0m\u001b[0mevaluate_candidates\u001b[0m\u001b[0;34m)\u001b[0m\u001b[0;34m\u001b[0m\u001b[0;34m\u001b[0m\u001b[0m\n\u001b[0m\u001b[1;32m    711\u001b[0m \u001b[0;34m\u001b[0m\u001b[0m\n\u001b[1;32m    712\u001b[0m         \u001b[0;31m# For multi-metric evaluation, store the best_index_, best_params_ and\u001b[0m\u001b[0;34m\u001b[0m\u001b[0;34m\u001b[0m\u001b[0;34m\u001b[0m\u001b[0m\n",
            "\u001b[0;32m/usr/local/lib/python3.6/dist-packages/sklearn/model_selection/_search.py\u001b[0m in \u001b[0;36m_run_search\u001b[0;34m(self, evaluate_candidates)\u001b[0m\n\u001b[1;32m   1149\u001b[0m     \u001b[0;32mdef\u001b[0m \u001b[0m_run_search\u001b[0m\u001b[0;34m(\u001b[0m\u001b[0mself\u001b[0m\u001b[0;34m,\u001b[0m \u001b[0mevaluate_candidates\u001b[0m\u001b[0;34m)\u001b[0m\u001b[0;34m:\u001b[0m\u001b[0;34m\u001b[0m\u001b[0;34m\u001b[0m\u001b[0m\n\u001b[1;32m   1150\u001b[0m         \u001b[0;34m\"\"\"Search all candidates in param_grid\"\"\"\u001b[0m\u001b[0;34m\u001b[0m\u001b[0;34m\u001b[0m\u001b[0m\n\u001b[0;32m-> 1151\u001b[0;31m         \u001b[0mevaluate_candidates\u001b[0m\u001b[0;34m(\u001b[0m\u001b[0mParameterGrid\u001b[0m\u001b[0;34m(\u001b[0m\u001b[0mself\u001b[0m\u001b[0;34m.\u001b[0m\u001b[0mparam_grid\u001b[0m\u001b[0;34m)\u001b[0m\u001b[0;34m)\u001b[0m\u001b[0;34m\u001b[0m\u001b[0;34m\u001b[0m\u001b[0m\n\u001b[0m\u001b[1;32m   1152\u001b[0m \u001b[0;34m\u001b[0m\u001b[0m\n\u001b[1;32m   1153\u001b[0m \u001b[0;34m\u001b[0m\u001b[0m\n",
            "\u001b[0;32m/usr/local/lib/python3.6/dist-packages/sklearn/model_selection/_search.py\u001b[0m in \u001b[0;36mevaluate_candidates\u001b[0;34m(candidate_params)\u001b[0m\n\u001b[1;32m    687\u001b[0m                                \u001b[0;32mfor\u001b[0m \u001b[0mparameters\u001b[0m\u001b[0;34m,\u001b[0m \u001b[0;34m(\u001b[0m\u001b[0mtrain\u001b[0m\u001b[0;34m,\u001b[0m \u001b[0mtest\u001b[0m\u001b[0;34m)\u001b[0m\u001b[0;34m\u001b[0m\u001b[0;34m\u001b[0m\u001b[0m\n\u001b[1;32m    688\u001b[0m                                in product(candidate_params,\n\u001b[0;32m--> 689\u001b[0;31m                                           cv.split(X, y, groups)))\n\u001b[0m\u001b[1;32m    690\u001b[0m \u001b[0;34m\u001b[0m\u001b[0m\n\u001b[1;32m    691\u001b[0m                 \u001b[0;32mif\u001b[0m \u001b[0mlen\u001b[0m\u001b[0;34m(\u001b[0m\u001b[0mout\u001b[0m\u001b[0;34m)\u001b[0m \u001b[0;34m<\u001b[0m \u001b[0;36m1\u001b[0m\u001b[0;34m:\u001b[0m\u001b[0;34m\u001b[0m\u001b[0;34m\u001b[0m\u001b[0m\n",
            "\u001b[0;32m/usr/local/lib/python3.6/dist-packages/joblib/parallel.py\u001b[0m in \u001b[0;36m__call__\u001b[0;34m(self, iterable)\u001b[0m\n\u001b[1;32m   1040\u001b[0m \u001b[0;34m\u001b[0m\u001b[0m\n\u001b[1;32m   1041\u001b[0m             \u001b[0;32mwith\u001b[0m \u001b[0mself\u001b[0m\u001b[0;34m.\u001b[0m\u001b[0m_backend\u001b[0m\u001b[0;34m.\u001b[0m\u001b[0mretrieval_context\u001b[0m\u001b[0;34m(\u001b[0m\u001b[0;34m)\u001b[0m\u001b[0;34m:\u001b[0m\u001b[0;34m\u001b[0m\u001b[0;34m\u001b[0m\u001b[0m\n\u001b[0;32m-> 1042\u001b[0;31m                 \u001b[0mself\u001b[0m\u001b[0;34m.\u001b[0m\u001b[0mretrieve\u001b[0m\u001b[0;34m(\u001b[0m\u001b[0;34m)\u001b[0m\u001b[0;34m\u001b[0m\u001b[0;34m\u001b[0m\u001b[0m\n\u001b[0m\u001b[1;32m   1043\u001b[0m             \u001b[0;31m# Make sure that we get a last message telling us we are done\u001b[0m\u001b[0;34m\u001b[0m\u001b[0;34m\u001b[0m\u001b[0;34m\u001b[0m\u001b[0m\n\u001b[1;32m   1044\u001b[0m             \u001b[0melapsed_time\u001b[0m \u001b[0;34m=\u001b[0m \u001b[0mtime\u001b[0m\u001b[0;34m.\u001b[0m\u001b[0mtime\u001b[0m\u001b[0;34m(\u001b[0m\u001b[0;34m)\u001b[0m \u001b[0;34m-\u001b[0m \u001b[0mself\u001b[0m\u001b[0;34m.\u001b[0m\u001b[0m_start_time\u001b[0m\u001b[0;34m\u001b[0m\u001b[0;34m\u001b[0m\u001b[0m\n",
            "\u001b[0;32m/usr/local/lib/python3.6/dist-packages/joblib/parallel.py\u001b[0m in \u001b[0;36mretrieve\u001b[0;34m(self)\u001b[0m\n\u001b[1;32m    919\u001b[0m             \u001b[0;32mtry\u001b[0m\u001b[0;34m:\u001b[0m\u001b[0;34m\u001b[0m\u001b[0;34m\u001b[0m\u001b[0m\n\u001b[1;32m    920\u001b[0m                 \u001b[0;32mif\u001b[0m \u001b[0mgetattr\u001b[0m\u001b[0;34m(\u001b[0m\u001b[0mself\u001b[0m\u001b[0;34m.\u001b[0m\u001b[0m_backend\u001b[0m\u001b[0;34m,\u001b[0m \u001b[0;34m'supports_timeout'\u001b[0m\u001b[0;34m,\u001b[0m \u001b[0;32mFalse\u001b[0m\u001b[0;34m)\u001b[0m\u001b[0;34m:\u001b[0m\u001b[0;34m\u001b[0m\u001b[0;34m\u001b[0m\u001b[0m\n\u001b[0;32m--> 921\u001b[0;31m                     \u001b[0mself\u001b[0m\u001b[0;34m.\u001b[0m\u001b[0m_output\u001b[0m\u001b[0;34m.\u001b[0m\u001b[0mextend\u001b[0m\u001b[0;34m(\u001b[0m\u001b[0mjob\u001b[0m\u001b[0;34m.\u001b[0m\u001b[0mget\u001b[0m\u001b[0;34m(\u001b[0m\u001b[0mtimeout\u001b[0m\u001b[0;34m=\u001b[0m\u001b[0mself\u001b[0m\u001b[0;34m.\u001b[0m\u001b[0mtimeout\u001b[0m\u001b[0;34m)\u001b[0m\u001b[0;34m)\u001b[0m\u001b[0;34m\u001b[0m\u001b[0;34m\u001b[0m\u001b[0m\n\u001b[0m\u001b[1;32m    922\u001b[0m                 \u001b[0;32melse\u001b[0m\u001b[0;34m:\u001b[0m\u001b[0;34m\u001b[0m\u001b[0;34m\u001b[0m\u001b[0m\n\u001b[1;32m    923\u001b[0m                     \u001b[0mself\u001b[0m\u001b[0;34m.\u001b[0m\u001b[0m_output\u001b[0m\u001b[0;34m.\u001b[0m\u001b[0mextend\u001b[0m\u001b[0;34m(\u001b[0m\u001b[0mjob\u001b[0m\u001b[0;34m.\u001b[0m\u001b[0mget\u001b[0m\u001b[0;34m(\u001b[0m\u001b[0;34m)\u001b[0m\u001b[0;34m)\u001b[0m\u001b[0;34m\u001b[0m\u001b[0;34m\u001b[0m\u001b[0m\n",
            "\u001b[0;32m/usr/local/lib/python3.6/dist-packages/joblib/_parallel_backends.py\u001b[0m in \u001b[0;36mwrap_future_result\u001b[0;34m(future, timeout)\u001b[0m\n\u001b[1;32m    538\u001b[0m         AsyncResults.get from multiprocessing.\"\"\"\n\u001b[1;32m    539\u001b[0m         \u001b[0;32mtry\u001b[0m\u001b[0;34m:\u001b[0m\u001b[0;34m\u001b[0m\u001b[0;34m\u001b[0m\u001b[0m\n\u001b[0;32m--> 540\u001b[0;31m             \u001b[0;32mreturn\u001b[0m \u001b[0mfuture\u001b[0m\u001b[0;34m.\u001b[0m\u001b[0mresult\u001b[0m\u001b[0;34m(\u001b[0m\u001b[0mtimeout\u001b[0m\u001b[0;34m=\u001b[0m\u001b[0mtimeout\u001b[0m\u001b[0;34m)\u001b[0m\u001b[0;34m\u001b[0m\u001b[0;34m\u001b[0m\u001b[0m\n\u001b[0m\u001b[1;32m    541\u001b[0m         \u001b[0;32mexcept\u001b[0m \u001b[0mCfTimeoutError\u001b[0m\u001b[0;34m:\u001b[0m\u001b[0;34m\u001b[0m\u001b[0;34m\u001b[0m\u001b[0m\n\u001b[1;32m    542\u001b[0m             \u001b[0;32mraise\u001b[0m \u001b[0mTimeoutError\u001b[0m\u001b[0;34m(\u001b[0m\u001b[0;34m)\u001b[0m\u001b[0;34m\u001b[0m\u001b[0;34m\u001b[0m\u001b[0m\n",
            "\u001b[0;32m/usr/lib/python3.6/concurrent/futures/_base.py\u001b[0m in \u001b[0;36mresult\u001b[0;34m(self, timeout)\u001b[0m\n\u001b[1;32m    425\u001b[0m                 \u001b[0;32mreturn\u001b[0m \u001b[0mself\u001b[0m\u001b[0;34m.\u001b[0m\u001b[0m__get_result\u001b[0m\u001b[0;34m(\u001b[0m\u001b[0;34m)\u001b[0m\u001b[0;34m\u001b[0m\u001b[0;34m\u001b[0m\u001b[0m\n\u001b[1;32m    426\u001b[0m \u001b[0;34m\u001b[0m\u001b[0m\n\u001b[0;32m--> 427\u001b[0;31m             \u001b[0mself\u001b[0m\u001b[0;34m.\u001b[0m\u001b[0m_condition\u001b[0m\u001b[0;34m.\u001b[0m\u001b[0mwait\u001b[0m\u001b[0;34m(\u001b[0m\u001b[0mtimeout\u001b[0m\u001b[0;34m)\u001b[0m\u001b[0;34m\u001b[0m\u001b[0;34m\u001b[0m\u001b[0m\n\u001b[0m\u001b[1;32m    428\u001b[0m \u001b[0;34m\u001b[0m\u001b[0m\n\u001b[1;32m    429\u001b[0m             \u001b[0;32mif\u001b[0m \u001b[0mself\u001b[0m\u001b[0;34m.\u001b[0m\u001b[0m_state\u001b[0m \u001b[0;32min\u001b[0m \u001b[0;34m[\u001b[0m\u001b[0mCANCELLED\u001b[0m\u001b[0;34m,\u001b[0m \u001b[0mCANCELLED_AND_NOTIFIED\u001b[0m\u001b[0;34m]\u001b[0m\u001b[0;34m:\u001b[0m\u001b[0;34m\u001b[0m\u001b[0;34m\u001b[0m\u001b[0m\n",
            "\u001b[0;32m/usr/lib/python3.6/threading.py\u001b[0m in \u001b[0;36mwait\u001b[0;34m(self, timeout)\u001b[0m\n\u001b[1;32m    293\u001b[0m         \u001b[0;32mtry\u001b[0m\u001b[0;34m:\u001b[0m    \u001b[0;31m# restore state no matter what (e.g., KeyboardInterrupt)\u001b[0m\u001b[0;34m\u001b[0m\u001b[0;34m\u001b[0m\u001b[0m\n\u001b[1;32m    294\u001b[0m             \u001b[0;32mif\u001b[0m \u001b[0mtimeout\u001b[0m \u001b[0;32mis\u001b[0m \u001b[0;32mNone\u001b[0m\u001b[0;34m:\u001b[0m\u001b[0;34m\u001b[0m\u001b[0;34m\u001b[0m\u001b[0m\n\u001b[0;32m--> 295\u001b[0;31m                 \u001b[0mwaiter\u001b[0m\u001b[0;34m.\u001b[0m\u001b[0macquire\u001b[0m\u001b[0;34m(\u001b[0m\u001b[0;34m)\u001b[0m\u001b[0;34m\u001b[0m\u001b[0;34m\u001b[0m\u001b[0m\n\u001b[0m\u001b[1;32m    296\u001b[0m                 \u001b[0mgotit\u001b[0m \u001b[0;34m=\u001b[0m \u001b[0;32mTrue\u001b[0m\u001b[0;34m\u001b[0m\u001b[0;34m\u001b[0m\u001b[0m\n\u001b[1;32m    297\u001b[0m             \u001b[0;32melse\u001b[0m\u001b[0;34m:\u001b[0m\u001b[0;34m\u001b[0m\u001b[0;34m\u001b[0m\u001b[0m\n",
            "\u001b[0;31mKeyboardInterrupt\u001b[0m: "
          ]
        }
      ]
    },
    {
      "cell_type": "markdown",
      "metadata": {
        "id": "ol-lnn54OklR",
        "colab_type": "text"
      },
      "source": [
        "## Random Forest"
      ]
    },
    {
      "cell_type": "code",
      "metadata": {
        "id": "iIdJeTjRyLAt",
        "colab_type": "code",
        "colab": {
          "base_uri": "https://localhost:8080/",
          "height": 187
        },
        "outputId": "d1bcf3aa-b711-4715-a9f3-b05e41d664d4"
      },
      "source": [
        "dict_clf = { 'max_depth': [10] ,\n",
        "            'n_estimators': [100,150,200,250],\n",
        "            'min_samples_split': [2,3,4,5],\n",
        "            'min_samples_leaf': [4,5,6]\n",
        "            \n",
        "}\n",
        "clf = GridSearchCV(estimator = RandomForestClassifier(n_jobs=-1, random_state= SEED),\n",
        "                        param_grid = dict_clf,\n",
        "                        cv = cv,\n",
        "                        n_jobs=-1\n",
        "                        )\n",
        "\n",
        "clf.fit(X_train,y_train)\n",
        "clf.score(X_train,y_train) , clf.score(X_test, y_test), clf.best_estimator_ "
      ],
      "execution_count": 253,
      "outputs": [
        {
          "output_type": "execute_result",
          "data": {
            "text/plain": [
              "(0.9124767225325885,\n",
              " 0.5368421052631579,\n",
              " RandomForestClassifier(bootstrap=True, ccp_alpha=0.0, class_weight=None,\n",
              "                        criterion='gini', max_depth=10, max_features='auto',\n",
              "                        max_leaf_nodes=None, max_samples=None,\n",
              "                        min_impurity_decrease=0.0, min_impurity_split=None,\n",
              "                        min_samples_leaf=6, min_samples_split=2,\n",
              "                        min_weight_fraction_leaf=0.0, n_estimators=200,\n",
              "                        n_jobs=-1, oob_score=False, random_state=1729, verbose=0,\n",
              "                        warm_start=False))"
            ]
          },
          "metadata": {
            "tags": []
          },
          "execution_count": 253
        }
      ]
    },
    {
      "cell_type": "code",
      "metadata": {
        "id": "mO1fzX6RD_Ya",
        "colab_type": "code",
        "colab": {
          "base_uri": "https://localhost:8080/",
          "height": 34
        },
        "outputId": "84dfadd0-0a9b-434e-89cb-64f7ac557569"
      },
      "source": [
        " cross_val_score(RandomForestClassifier(bootstrap=True, ccp_alpha=0.0, class_weight=None,\n",
        "                        criterion='gini', max_depth=10, max_features='auto',\n",
        "                        max_leaf_nodes=None, max_samples=None,\n",
        "                        min_impurity_decrease=0.0, min_impurity_split=None,\n",
        "                        min_samples_leaf=4, min_samples_split=2,\n",
        "                        min_weight_fraction_leaf=0.0, n_estimators=150,\n",
        "                        n_jobs=-1, oob_score=False, random_state=1729, verbose=0,\n",
        "                        warm_start=False),  \n",
        "               X=X, y=y, cv=outer_cv, scoring='accuracy').mean()"
      ],
      "execution_count": 254,
      "outputs": [
        {
          "output_type": "execute_result",
          "data": {
            "text/plain": [
              "0.6074865641794776"
            ]
          },
          "metadata": {
            "tags": []
          },
          "execution_count": 254
        }
      ]
    },
    {
      "cell_type": "markdown",
      "metadata": {
        "id": "Jj5f4gUrZWXG",
        "colab_type": "text"
      },
      "source": [
        "## SVM"
      ]
    },
    {
      "cell_type": "code",
      "metadata": {
        "id": "pVQCLhTWZa5F",
        "colab_type": "code",
        "colab": {
          "base_uri": "https://localhost:8080/",
          "height": 119
        },
        "outputId": "b0bb7960-4b3d-41ed-f845-a58be993309a"
      },
      "source": [
        "dict_clf = { 'C': [0.01,0.1,1,10,100] ,\n",
        "            'degree': [1,5,10],\n",
        "            'kernel': ['rbf','linear','poly','sigmoid']\n",
        "            \n",
        "}\n",
        "clf = GridSearchCV(estimator = SVC (random_state= SEED),\n",
        "                        param_grid = dict_clf,\n",
        "                        cv = cv,\n",
        "                        n_jobs=-1\n",
        "                        )\n",
        "\n",
        "clf.fit(X_train,y_train)\n",
        "clf.score(X_train,y_train) , clf.score(X_test, y_test), clf.best_estimator_ "
      ],
      "execution_count": 255,
      "outputs": [
        {
          "output_type": "execute_result",
          "data": {
            "text/plain": [
              "(0.6163873370577281,\n",
              " 0.5368421052631579,\n",
              " SVC(C=0.1, break_ties=False, cache_size=200, class_weight=None, coef0=0.0,\n",
              "     decision_function_shape='ovr', degree=1, gamma='scale', kernel='linear',\n",
              "     max_iter=-1, probability=False, random_state=1729, shrinking=True,\n",
              "     tol=0.001, verbose=False))"
            ]
          },
          "metadata": {
            "tags": []
          },
          "execution_count": 255
        }
      ]
    },
    {
      "cell_type": "code",
      "metadata": {
        "id": "zvYgTRpsceML",
        "colab_type": "code",
        "colab": {
          "base_uri": "https://localhost:8080/",
          "height": 34
        },
        "outputId": "2e6f17c1-5cf7-4c26-d459-2df6988ce7d3"
      },
      "source": [
        " cross_val_score(SVC(C=0.1, break_ties=False, cache_size=200, class_weight=None, coef0=0.0,\n",
        "                    decision_function_shape='ovr', degree=1, gamma='scale', kernel='linear',\n",
        "                    max_iter=-1, probability=False, random_state=1729, shrinking=True,\n",
        "                    tol=0.001, verbose=False),  \n",
        "               X=X, y=y, cv=outer_cv, scoring='accuracy').mean()"
      ],
      "execution_count": 256,
      "outputs": [
        {
          "output_type": "execute_result",
          "data": {
            "text/plain": [
              "0.5997000374953132"
            ]
          },
          "metadata": {
            "tags": []
          },
          "execution_count": 256
        }
      ]
    },
    {
      "cell_type": "markdown",
      "metadata": {
        "id": "27sO5bvFbLYs",
        "colab_type": "text"
      },
      "source": [
        "## Naive Bayes"
      ]
    },
    {
      "cell_type": "code",
      "metadata": {
        "id": "pQmci3L4bTd_",
        "colab_type": "code",
        "colab": {
          "base_uri": "https://localhost:8080/",
          "height": 34
        },
        "outputId": "8f85839c-6b88-493f-80d4-408bd0d82763"
      },
      "source": [
        "clf = GaussianNB()\n",
        "#cross_val_score(clf, X,y).mean()\n",
        "clf.fit(X_train,y_train)\n",
        "clf.score(X_train,y_train) , clf.score(X_test, y_test)"
      ],
      "execution_count": 257,
      "outputs": [
        {
          "output_type": "execute_result",
          "data": {
            "text/plain": [
              "(0.5605214152700186, 0.5894736842105263)"
            ]
          },
          "metadata": {
            "tags": []
          },
          "execution_count": 257
        }
      ]
    },
    {
      "cell_type": "markdown",
      "metadata": {
        "id": "mZfc3JZMh1nu",
        "colab_type": "text"
      },
      "source": [
        "## K Nearest Neighbors"
      ]
    },
    {
      "cell_type": "code",
      "metadata": {
        "id": "rB1_-hvui3SL",
        "colab_type": "code",
        "colab": {
          "base_uri": "https://localhost:8080/",
          "height": 102
        },
        "outputId": "d0ac8196-8d83-441e-eefb-ef6184bac822"
      },
      "source": [
        "dict_clf = { 'n_neighbors': [2,3,4,5,6] ,\n",
        "            'weights': ['uniform', 'distance'],\n",
        "            'p': [1,2,3,4,5,10],\n",
        "            'leaf_size': [2,5,10,20]         \n",
        "}\n",
        "clf = GridSearchCV(estimator = KNeighborsClassifier(n_jobs=-1),\n",
        "                        param_grid = dict_clf,\n",
        "                        cv = cv,\n",
        "                        n_jobs=-1\n",
        "                        )\n",
        "\n",
        "clf.fit(X_train,y_train)\n",
        "clf.score(X_train,y_train) , clf.score(X_test, y_test), clf.best_estimator_ "
      ],
      "execution_count": 258,
      "outputs": [
        {
          "output_type": "execute_result",
          "data": {
            "text/plain": [
              "(0.6741154562383612,\n",
              " 0.47368421052631576,\n",
              " KNeighborsClassifier(algorithm='auto', leaf_size=2, metric='minkowski',\n",
              "                      metric_params=None, n_jobs=-1, n_neighbors=6, p=1,\n",
              "                      weights='uniform'))"
            ]
          },
          "metadata": {
            "tags": []
          },
          "execution_count": 258
        }
      ]
    },
    {
      "cell_type": "code",
      "metadata": {
        "id": "IH9MWIa9ulSx",
        "colab_type": "code",
        "colab": {
          "base_uri": "https://localhost:8080/",
          "height": 34
        },
        "outputId": "44ebd81a-037e-4c78-fca9-8c995149fdf3"
      },
      "source": [
        " cross_val_score(KNeighborsClassifier(algorithm='auto', leaf_size=2, metric='minkowski',\n",
        "                      metric_params=None, n_jobs=-1, n_neighbors=6, p=1,\n",
        "                      weights='uniform'),  \n",
        "               X=X, y=y, cv=outer_cv, scoring='accuracy').mean()"
      ],
      "execution_count": 264,
      "outputs": [
        {
          "output_type": "execute_result",
          "data": {
            "text/plain": [
              "0.510973628296463"
            ]
          },
          "metadata": {
            "tags": []
          },
          "execution_count": 264
        }
      ]
    },
    {
      "cell_type": "markdown",
      "metadata": {
        "id": "4mdE-jeGuhDt",
        "colab_type": "text"
      },
      "source": [
        "## Adaboost"
      ]
    },
    {
      "cell_type": "code",
      "metadata": {
        "id": "hEgFOIRlujfS",
        "colab_type": "code",
        "colab": {
          "base_uri": "https://localhost:8080/",
          "height": 323
        },
        "outputId": "03e2bbe9-4eb3-4565-e98a-f60d39382524"
      },
      "source": [
        "dict_clf = { 'n_estimators': [50,60,70,100],\n",
        "            'learning_rate': [0.01,0.1,0.2,10],\n",
        "            'base_estimator': [tree.DecisionTreeClassifier(max_depth=1, max_features= 0.75),\n",
        "                               tree.DecisionTreeClassifier(max_depth=1, max_features= 0.80),\n",
        "                               tree.DecisionTreeClassifier(max_depth=1, max_features= 0.9),\n",
        "                               tree.DecisionTreeClassifier(max_depth=1, max_features= 0.95),\n",
        "                               tree.DecisionTreeClassifier(max_depth=1)]       \n",
        "}\n",
        "clf = GridSearchCV(estimator = AdaBoostClassifier(random_state=SEED),\n",
        "                        param_grid = dict_clf,\n",
        "                        cv = cv,\n",
        "                        n_jobs=-1\n",
        "                        )\n",
        "\n",
        "clf.fit(X_train,y_train)\n",
        "clf.score(X_train,y_train) , clf.score(X_test, y_test), clf.best_estimator_ \n",
        "\n"
      ],
      "execution_count": 273,
      "outputs": [
        {
          "output_type": "execute_result",
          "data": {
            "text/plain": [
              "(0.7113594040968343,\n",
              " 0.5894736842105263,\n",
              " AdaBoostClassifier(algorithm='SAMME.R',\n",
              "                    base_estimator=DecisionTreeClassifier(ccp_alpha=0.0,\n",
              "                                                          class_weight=None,\n",
              "                                                          criterion='gini',\n",
              "                                                          max_depth=1,\n",
              "                                                          max_features=0.8,\n",
              "                                                          max_leaf_nodes=None,\n",
              "                                                          min_impurity_decrease=0.0,\n",
              "                                                          min_impurity_split=None,\n",
              "                                                          min_samples_leaf=1,\n",
              "                                                          min_samples_split=2,\n",
              "                                                          min_weight_fraction_leaf=0.0,\n",
              "                                                          presort='deprecated',\n",
              "                                                          random_state=None,\n",
              "                                                          splitter='best'),\n",
              "                    learning_rate=0.1, n_estimators=50, random_state=1729))"
            ]
          },
          "metadata": {
            "tags": []
          },
          "execution_count": 273
        }
      ]
    },
    {
      "cell_type": "code",
      "metadata": {
        "id": "F7OOc7O2zLaG",
        "colab_type": "code",
        "colab": {
          "base_uri": "https://localhost:8080/",
          "height": 34
        },
        "outputId": "f3139864-6d3f-4101-c1ac-e6af40e3f48e"
      },
      "source": [
        " cross_val_score(AdaBoostClassifier(algorithm='SAMME.R',\n",
        "                    base_estimator=tree.DecisionTreeClassifier(ccp_alpha=0.0,\n",
        "                                                          class_weight=None,\n",
        "                                                          criterion='gini',\n",
        "                                                          max_depth=1,\n",
        "                                                          max_features=0.8,\n",
        "                                                          max_leaf_nodes=None,\n",
        "                                                          min_impurity_decrease=0.0,\n",
        "                                                          min_impurity_split=None,\n",
        "                                                          min_samples_leaf=1,\n",
        "                                                          min_samples_split=2,\n",
        "                                                          min_weight_fraction_leaf=0.0,\n",
        "                                                          presort='deprecated',\n",
        "                                                          random_state=None,\n",
        "                                                          splitter='best'),\n",
        "                    learning_rate=0.1, n_estimators=50, random_state=1729),  \n",
        "               X=X, y=y, cv=outer_cv, scoring='accuracy').mean()"
      ],
      "execution_count": 286,
      "outputs": [
        {
          "output_type": "execute_result",
          "data": {
            "text/plain": [
              "0.6217472815898013"
            ]
          },
          "metadata": {
            "tags": []
          },
          "execution_count": 286
        }
      ]
    },
    {
      "cell_type": "markdown",
      "metadata": {
        "id": "PZyycc23zUCA",
        "colab_type": "text"
      },
      "source": [
        "## Voting Classifier"
      ]
    },
    {
      "cell_type": "markdown",
      "metadata": {
        "id": "WKpLp78C0XKf",
        "colab_type": "text"
      },
      "source": [
        "### Without GridSearch"
      ]
    },
    {
      "cell_type": "code",
      "metadata": {
        "id": "RC8esBsCzWTU",
        "colab_type": "code",
        "colab": {
          "base_uri": "https://localhost:8080/",
          "height": 34
        },
        "outputId": "3f417e9f-04b5-4384-9887-9be251e0e0a6"
      },
      "source": [
        "estimators = [('logistic', LogisticRegression( C =8.0 ,max_iter=1000 , random_state=SEED)),\n",
        "               ('knn',KNeighborsClassifier(algorithm='auto', leaf_size=2, metric='minkowski',\n",
        "                      metric_params=None, n_jobs=-1, n_neighbors=6, p=4,\n",
        "                      weights='uniform')),\n",
        "               ('svm',SVC(C=0.1, break_ties=False, cache_size=200, class_weight=None, coef0=0.0,\n",
        "                    decision_function_shape='ovr', degree=1, gamma='scale', kernel='linear',\n",
        "                    max_iter=-1, probability=False, random_state=1729, shrinking=True,\n",
        "                    tol=0.001, verbose=False)),\n",
        "               ('xgb', xgb.XGBClassifier(base_score=0.5, booster='gbtree', colsample_bylevel=1,\n",
        "               colsample_bynode=1, colsample_bytree=1, gamma=0,\n",
        "               learning_rate=2.0, max_delta_step=0, max_depth=8,\n",
        "               min_child_weight=1, missing=None, n_estimators=5, n_jobs=-1,\n",
        "               nthread=None, objective='binary:logistic', random_state=1729,\n",
        "               reg_alpha=0, reg_lambda=100, scale_pos_weight=1, seed=None,\n",
        "               silent=None, subsample=1, verbosity=1)),\n",
        "              ('nb',GaussianNB()),\n",
        "              ('rf', RandomForestClassifier(bootstrap=True, ccp_alpha=0.0, class_weight=None,\n",
        "                        criterion='gini', max_depth=10, max_features='auto',\n",
        "                        max_leaf_nodes=None, max_samples=None,\n",
        "                        min_impurity_decrease=0.0, min_impurity_split=None,\n",
        "                        min_samples_leaf=4, min_samples_split=2,\n",
        "                        min_weight_fraction_leaf=0.0, n_estimators=150,\n",
        "                        n_jobs=-1, oob_score=False, random_state=1729, verbose=0,\n",
        "                        warm_start=False))\n",
        "               ]\n",
        "\n",
        "clf = VotingClassifier(estimators=estimators, voting='hard')\n",
        "clf.fit(X_train,y_train)\n",
        "clf.score(X_train,y_train) , clf.score(X_test, y_test),  cross_val_score(VotingClassifier(estimators=estimators), X=X, y=y, cv=outer_cv, scoring='accuracy').mean()"
      ],
      "execution_count": 359,
      "outputs": [
        {
          "output_type": "execute_result",
          "data": {
            "text/plain": [
              "(0.7299813780260708, 0.5578947368421052, 0.6154230721159856)"
            ]
          },
          "metadata": {
            "tags": []
          },
          "execution_count": 359
        }
      ]
    },
    {
      "cell_type": "code",
      "metadata": {
        "id": "KiRjogYu0aCF",
        "colab_type": "code",
        "colab": {
          "base_uri": "https://localhost:8080/",
          "height": 34
        },
        "outputId": "301dec04-a834-4f3c-ae48-e6ffe5a02aff"
      },
      "source": [
        "estimators = [('logistic', LogisticRegression( C =8.0 ,max_iter=1000 , random_state=SEED)),\n",
        "               ('rf', RandomForestClassifier(bootstrap=True, ccp_alpha=0.0, class_weight=None,\n",
        "                        criterion='gini', max_depth=10, max_features='auto',\n",
        "                        max_leaf_nodes=None, max_samples=None,\n",
        "                        min_impurity_decrease=0.0, min_impurity_split=None,\n",
        "                        min_samples_leaf=4, min_samples_split=2,\n",
        "                        min_weight_fraction_leaf=0.0, n_estimators=150,\n",
        "                        n_jobs=-1, oob_score=False, random_state=1729, verbose=0,\n",
        "                        warm_start=False)),\n",
        "              ('nb',GaussianNB())\n",
        "               ]\n",
        "\n",
        "clf = VotingClassifier(estimators=estimators, voting='hard')\n",
        "clf.fit(X_train,y_train)\n",
        "clf.score(X_train,y_train) , clf.score(X_test, y_test),  cross_val_score(VotingClassifier(estimators=estimators), X=X, y=y, cv=outer_cv, scoring='accuracy').mean()"
      ],
      "execution_count": 362,
      "outputs": [
        {
          "output_type": "execute_result",
          "data": {
            "text/plain": [
              "(0.7150837988826816, 0.631578947368421, 0.6074990626171729)"
            ]
          },
          "metadata": {
            "tags": []
          },
          "execution_count": 362
        }
      ]
    },
    {
      "cell_type": "code",
      "metadata": {
        "id": "xOa322rz1SQp",
        "colab_type": "code",
        "colab": {
          "base_uri": "https://localhost:8080/",
          "height": 34
        },
        "outputId": "276d0767-be44-4ae1-9053-f6f417aa8b11"
      },
      "source": [
        "estimators = [('logistic', LogisticRegression( C =8.0 ,max_iter=1000 , random_state=SEED)),\n",
        "               \n",
        "              ('nb',GaussianNB()),\n",
        "              ('et', ExtraTreesClassifier(bootstrap=False, ccp_alpha=0.0, class_weight=None,\n",
        "                      criterion='entropy', max_depth=10, max_features='sqrt',\n",
        "                      max_leaf_nodes=None, max_samples=None,\n",
        "                      min_impurity_decrease=0.0, min_impurity_split=None,\n",
        "                      min_samples_leaf=1, min_samples_split=5,\n",
        "                      min_weight_fraction_leaf=0.0, n_estimators=100, n_jobs=-1,\n",
        "                      oob_score=False, random_state=1729, verbose=0,\n",
        "                      warm_start=False))\n",
        "               ]\n",
        "\n",
        "clf = VotingClassifier(estimators=estimators)\n",
        "clf.fit(X_train,y_train)\n",
        "clf.score(X_train,y_train) , clf.score(X_test, y_test),  cross_val_score(VotingClassifier(estimators=estimators), X=X, y=y, cv=outer_cv, scoring='accuracy').mean()"
      ],
      "execution_count": 303,
      "outputs": [
        {
          "output_type": "execute_result",
          "data": {
            "text/plain": [
              "(0.7132216014897579, 0.631578947368421, 0.6154230721159856)"
            ]
          },
          "metadata": {
            "tags": []
          },
          "execution_count": 303
        }
      ]
    },
    {
      "cell_type": "markdown",
      "metadata": {
        "id": "dTxDpuJE2YAU",
        "colab_type": "text"
      },
      "source": [
        "## Stacking Classifier"
      ]
    },
    {
      "cell_type": "code",
      "metadata": {
        "id": "7_Xnhywm2aEX",
        "colab_type": "code",
        "colab": {
          "base_uri": "https://localhost:8080/",
          "height": 34
        },
        "outputId": "32fb2068-240f-40fe-da68-af40b9cafd42"
      },
      "source": [
        "estimators = [('logistic', LogisticRegression( C =8.0 ,max_iter=1000 , random_state=SEED)),\n",
        "               ('knn',KNeighborsClassifier(algorithm='auto', leaf_size=2, metric='minkowski',\n",
        "                      metric_params=None, n_jobs=-1, n_neighbors=6, p=4,\n",
        "                      weights='uniform')),\n",
        "               ('svm',SVC(C=0.1, break_ties=False, cache_size=200, class_weight=None, coef0=0.0,\n",
        "                    decision_function_shape='ovr', degree=1, gamma='scale', kernel='linear',\n",
        "                    max_iter=-1, probability=False, random_state=1729, shrinking=True,\n",
        "                    tol=0.001, verbose=False)),\n",
        "              ('nb',GaussianNB()),\n",
        "               ('xgb', xgb.XGBClassifier(base_score=0.5, booster='gbtree', colsample_bylevel=1,\n",
        "               colsample_bynode=1, colsample_bytree=1, gamma=0,\n",
        "               learning_rate=2.0, max_delta_step=0, max_depth=8,\n",
        "               min_child_weight=1, missing=None, n_estimators=5, n_jobs=-1,\n",
        "               nthread=None, objective='binary:logistic', random_state=1729,\n",
        "               reg_alpha=0, reg_lambda=100, scale_pos_weight=1, seed=None,\n",
        "               silent=None, subsample=1, verbosity=1)),\n",
        "              ('rf', RandomForestClassifier(bootstrap=True, ccp_alpha=0.0, class_weight=None,\n",
        "                        criterion='gini', max_depth=10, max_features='auto',\n",
        "                        max_leaf_nodes=None, max_samples=None,\n",
        "                        min_impurity_decrease=0.0, min_impurity_split=None,\n",
        "                        min_samples_leaf=4, min_samples_split=2,\n",
        "                        min_weight_fraction_leaf=0.0, n_estimators=150,\n",
        "                        n_jobs=-1, oob_score=False, random_state=1729, verbose=0,\n",
        "                        warm_start=False))\n",
        "               ]\n",
        "\n",
        "clf = StackingClassifier(estimators=estimators, final_estimator=LogisticRegression())\n",
        "clf.fit(X_train,y_train)\n",
        "clf.score(X_train,y_train) , clf.score(X_test, y_test),  cross_val_score(clf, X=X, y=y, cv=outer_cv, scoring='accuracy').mean()\n"
      ],
      "execution_count": 364,
      "outputs": [
        {
          "output_type": "execute_result",
          "data": {
            "text/plain": [
              "(0.8640595903165735, 0.5684210526315789, 0.6027621547306585)"
            ]
          },
          "metadata": {
            "tags": []
          },
          "execution_count": 364
        }
      ]
    },
    {
      "cell_type": "code",
      "metadata": {
        "id": "CRtn5NRL3nsk",
        "colab_type": "code",
        "colab": {
          "base_uri": "https://localhost:8080/",
          "height": 34
        },
        "outputId": "ad4b9249-b6cc-4b8a-cd40-07ac74086b7e"
      },
      "source": [
        "estimators = [\n",
        "               ('rf', RandomForestClassifier(bootstrap=True, ccp_alpha=0.0, class_weight=None,\n",
        "                        criterion='gini', max_depth=10, max_features='auto',\n",
        "                        max_leaf_nodes=None, max_samples=None,\n",
        "                        min_impurity_decrease=0.0, min_impurity_split=None,\n",
        "                        min_samples_leaf=4, min_samples_split=2,\n",
        "                        min_weight_fraction_leaf=0.0, n_estimators=150,\n",
        "                        n_jobs=-1, oob_score=False, random_state=1729,\n",
        "                        warm_start=False)),\n",
        "              ('nb',GaussianNB())\n",
        "               ]\n",
        "\n",
        "clf = StackingClassifier(estimators=estimators, final_estimator=LogisticRegression(), stack_method='predict')\n",
        "clf.fit(X_train,y_train)\n",
        "clf.score(X_train,y_train) , clf.score(X_test, y_test),  cross_val_score(clf, X=X, y=y, cv=outer_cv, scoring='accuracy').mean()"
      ],
      "execution_count": 365,
      "outputs": [
        {
          "output_type": "execute_result",
          "data": {
            "text/plain": [
              "(0.9497206703910615, 0.6, 0.6074865641794776)"
            ]
          },
          "metadata": {
            "tags": []
          },
          "execution_count": 365
        }
      ]
    },
    {
      "cell_type": "code",
      "metadata": {
        "id": "f_n3vcXw4Fko",
        "colab_type": "code",
        "colab": {
          "base_uri": "https://localhost:8080/",
          "height": 34
        },
        "outputId": "1338be40-0ab9-4440-ac8c-c32453d610c0"
      },
      "source": [
        "estimators = [('logistic', LogisticRegression( C =8.0 ,max_iter=1000 , random_state=SEED)),\n",
        "               \n",
        "              ('nb',GaussianNB()),\n",
        "              ('et', ExtraTreesClassifier(bootstrap=False, ccp_alpha=0.0, class_weight=None,\n",
        "                      criterion='entropy', max_depth=10, max_features='sqrt',\n",
        "                      max_leaf_nodes=None, max_samples=None,\n",
        "                      min_impurity_decrease=0.0, min_impurity_split=None,\n",
        "                      min_samples_leaf=1, min_samples_split=5,\n",
        "                      min_weight_fraction_leaf=0.0, n_estimators=100, n_jobs=-1,\n",
        "                      oob_score=False, random_state=1729, verbose=0,\n",
        "                      warm_start=False))\n",
        "               ]\n",
        "\n",
        "clf = StackingClassifier(estimators=estimators, final_estimator=LogisticRegression(), stack_method='predict')\n",
        "clf.fit(X_train,y_train)\n",
        "clf.score(X_train,y_train) , clf.score(X_test, y_test),  cross_val_score(clf, X=X, y=y, cv=outer_cv, scoring='accuracy').mean()"
      ],
      "execution_count": 366,
      "outputs": [
        {
          "output_type": "execute_result",
          "data": {
            "text/plain": [
              "(0.8659217877094972, 0.5894736842105263, 0.6217472815898013)"
            ]
          },
          "metadata": {
            "tags": []
          },
          "execution_count": 366
        }
      ]
    },
    {
      "cell_type": "code",
      "metadata": {
        "id": "ZXecn1wm3gjC",
        "colab_type": "code",
        "colab": {}
      },
      "source": [
        "dict_classifiers = {\n",
        "    'Extra Trees': ExtraTreesClassifier(bootstrap=False, ccp_alpha=0.0, class_weight=None,\n",
        "                      criterion='entropy', max_depth=10, max_features='sqrt',\n",
        "                      max_leaf_nodes=None, max_samples=None,\n",
        "                      min_impurity_decrease=0.0, min_impurity_split=None,\n",
        "                      min_samples_leaf=1, min_samples_split=5,\n",
        "                      min_weight_fraction_leaf=0.0, n_estimators=100, n_jobs=-1,\n",
        "                      oob_score=False, random_state=1729, verbose=0,\n",
        "                      warm_start=False),\n",
        "                    \n",
        "    \"Logistic Regression\": LogisticRegression( C =8.0 ,max_iter=1000 , random_state=SEED),\n",
        "\n",
        "    \"Nearest Neighbors\": KNeighborsClassifier(algorithm='auto', leaf_size=2, metric='minkowski',\n",
        "                      metric_params=None, n_jobs=-1, n_neighbors=6, p=4,\n",
        "                      weights='uniform'),\n",
        "                    \n",
        "    \"SVM\": SVC(C=0.1, break_ties=False, cache_size=200, class_weight=None, coef0=0.0,\n",
        "                    decision_function_shape='ovr', degree=1, gamma='scale', kernel='linear',\n",
        "                    max_iter=-1, probability=False, random_state=1729, shrinking=True,\n",
        "                    tol=0.001, verbose=False),\n",
        "\n",
        "    \"Gradient Boosting Classifier\": GradientBoostingClassifier(n_estimators=1000),\n",
        "    \"Decision Tree\": tree.DecisionTreeClassifier(),\n",
        "    \"Random Forest\": RandomForestClassifier(bootstrap=True, ccp_alpha=0.0, class_weight=None,\n",
        "                        criterion='gini', max_depth=10, max_features='auto',\n",
        "                        max_leaf_nodes=None, max_samples=None,\n",
        "                        min_impurity_decrease=0.0, min_impurity_split=None,\n",
        "                        min_samples_leaf=4, min_samples_split=2,\n",
        "                        min_weight_fraction_leaf=0.0, n_estimators=150,\n",
        "                        n_jobs=-1, oob_score=False, random_state=1729, verbose=0,\n",
        "                        warm_start=False),\n",
        "    \"Neural Net\": MLPClassifier(alpha = 1),\n",
        "    \"Naive Bayes\": GaussianNB(),\n",
        "    \"AdaBoost\": AdaBoostClassifier(algorithm='SAMME.R',\n",
        "                    base_estimator=DecisionTreeClassifier(ccp_alpha=0.0,\n",
        "                                                          class_weight=None,\n",
        "                                                          criterion='gini',\n",
        "                                                          max_depth=1,\n",
        "                                                          max_features=0.8,\n",
        "                                                          max_leaf_nodes=None,\n",
        "                                                          min_impurity_decrease=0.0,\n",
        "                                                          min_impurity_split=None,\n",
        "                                                          min_samples_leaf=1,\n",
        "                                                          min_samples_split=2,\n",
        "                                                          min_weight_fraction_leaf=0.0,\n",
        "                                                          presort='deprecated',\n",
        "                                                          random_state=None,\n",
        "                                                          splitter='best'),\n",
        "                    learning_rate=0.1, n_estimators=50, random_state=1729),\n",
        "    \"QDA\": QuadraticDiscriminantAnalysis(),\n",
        "    \"Gaussian Process\": GaussianProcessClassifier(),\n",
        "    \"XGBoost\": xgb.XGBClassifier(base_score=0.5, booster='gbtree', colsample_bylevel=1,\n",
        "               colsample_bynode=1, colsample_bytree=1, gamma=0,\n",
        "               learning_rate=2.0, max_delta_step=0, max_depth=8,\n",
        "               min_child_weight=1, missing=None, n_estimators=5, n_jobs=-1,\n",
        "               nthread=None, objective='binary:logistic', random_state=1729,\n",
        "               reg_alpha=0, reg_lambda=100, scale_pos_weight=1, seed=None,\n",
        "               silent=None, subsample=1, verbosity=1)\n",
        "}"
      ],
      "execution_count": 280,
      "outputs": []
    },
    {
      "cell_type": "code",
      "metadata": {
        "id": "EGvOmfgBnOMY",
        "colab_type": "code",
        "colab": {}
      },
      "source": [
        "def batch_classify(X_train, Y_train, X_test, Y_test, no_classifiers = 5, verbose = True):\n",
        "    \n",
        "    dict_models = {}\n",
        "    for classifier_name, classifier in list(dict_classifiers.items())[:no_classifiers]:\n",
        "        t_start = time.clock()\n",
        "        classifier.fit(X_train, Y_train)\n",
        "        t_end = time.clock()\n",
        "        \n",
        "        t_diff = t_end - t_start\n",
        "        train_score = classifier.score(X_train, Y_train)\n",
        "        test_score = classifier.score(X_test, Y_test)\n",
        "        \n",
        "        dict_models[classifier_name] = {'model': classifier, 'train_score': train_score, 'test_score': test_score, 'train_time': t_diff}\n",
        "        if verbose:\n",
        "            print(\"trained {c} in {f:.2f} s\".format(c=classifier_name, f=t_diff))\n",
        "    return dict_models\n",
        "\n",
        "\n",
        "\n",
        "def display_dict_models(dict_models, sort_by='test_score'):\n",
        "    cls = [key for key in dict_models.keys()]\n",
        "    test_s = [dict_models[key]['test_score'] for key in cls]\n",
        "    training_s = [dict_models[key]['train_score'] for key in cls]\n",
        "    training_t = [dict_models[key]['train_time'] for key in cls]\n",
        "    \n",
        "    df_ = pd.DataFrame(data=np.zeros(shape=(len(cls),4)), columns = ['classifier', 'train_score', 'test_score', 'train_time'])\n",
        "    for ii in range(0,len(cls)):\n",
        "        df_.loc[ii, 'classifier'] = cls[ii]\n",
        "        df_.loc[ii, 'train_score'] = training_s[ii]\n",
        "        df_.loc[ii, 'test_score'] = test_s[ii]\n",
        "        df_.loc[ii, 'train_time'] = training_t[ii]\n",
        "    \n",
        "    display(df_.sort_values(by=sort_by, ascending=False))"
      ],
      "execution_count": 281,
      "outputs": []
    },
    {
      "cell_type": "code",
      "metadata": {
        "id": "IIGJKmhenOMb",
        "colab_type": "code",
        "colab": {
          "base_uri": "https://localhost:8080/",
          "height": 707
        },
        "outputId": "e9c75a9e-51e8-4b58-8dc3-d576f926c221"
      },
      "source": [
        "dict_models = batch_classify(X_train, y_train, X_test, y_test, no_classifiers = 13)\n",
        "display_dict_models(dict_models)"
      ],
      "execution_count": 282,
      "outputs": [
        {
          "output_type": "stream",
          "text": [
            "trained Extra Trees in 0.22 s\n",
            "trained Logistic Regression in 0.33 s\n",
            "trained Nearest Neighbors in 0.01 s\n",
            "trained SVM in 2.22 s\n",
            "trained Gradient Boosting Classifier in 3.16 s\n",
            "trained Decision Tree in 0.01 s\n",
            "trained Random Forest in 0.52 s\n",
            "trained Neural Net in 0.63 s\n",
            "trained Naive Bayes in 0.00 s\n",
            "trained AdaBoost in 0.26 s\n",
            "trained QDA in 0.00 s\n"
          ],
          "name": "stdout"
        },
        {
          "output_type": "stream",
          "text": [
            "/usr/local/lib/python3.6/dist-packages/sklearn/discriminant_analysis.py:691: UserWarning: Variables are collinear\n",
            "  warnings.warn(\"Variables are collinear\")\n"
          ],
          "name": "stderr"
        },
        {
          "output_type": "stream",
          "text": [
            "trained Gaussian Process in 0.23 s\n",
            "trained XGBoost in 0.05 s\n"
          ],
          "name": "stdout"
        },
        {
          "output_type": "display_data",
          "data": {
            "text/html": [
              "<div>\n",
              "<style scoped>\n",
              "    .dataframe tbody tr th:only-of-type {\n",
              "        vertical-align: middle;\n",
              "    }\n",
              "\n",
              "    .dataframe tbody tr th {\n",
              "        vertical-align: top;\n",
              "    }\n",
              "\n",
              "    .dataframe thead th {\n",
              "        text-align: right;\n",
              "    }\n",
              "</style>\n",
              "<table border=\"1\" class=\"dataframe\">\n",
              "  <thead>\n",
              "    <tr style=\"text-align: right;\">\n",
              "      <th></th>\n",
              "      <th>classifier</th>\n",
              "      <th>train_score</th>\n",
              "      <th>test_score</th>\n",
              "      <th>train_time</th>\n",
              "    </tr>\n",
              "  </thead>\n",
              "  <tbody>\n",
              "    <tr>\n",
              "      <th>1</th>\n",
              "      <td>Logistic Regression</td>\n",
              "      <td>0.648045</td>\n",
              "      <td>0.621053</td>\n",
              "      <td>0.325968</td>\n",
              "    </tr>\n",
              "    <tr>\n",
              "      <th>6</th>\n",
              "      <td>Random Forest</td>\n",
              "      <td>0.949721</td>\n",
              "      <td>0.600000</td>\n",
              "      <td>0.517783</td>\n",
              "    </tr>\n",
              "    <tr>\n",
              "      <th>0</th>\n",
              "      <td>Extra Trees</td>\n",
              "      <td>0.923650</td>\n",
              "      <td>0.589474</td>\n",
              "      <td>0.220691</td>\n",
              "    </tr>\n",
              "    <tr>\n",
              "      <th>8</th>\n",
              "      <td>Naive Bayes</td>\n",
              "      <td>0.560521</td>\n",
              "      <td>0.589474</td>\n",
              "      <td>0.003736</td>\n",
              "    </tr>\n",
              "    <tr>\n",
              "      <th>9</th>\n",
              "      <td>AdaBoost</td>\n",
              "      <td>0.711359</td>\n",
              "      <td>0.589474</td>\n",
              "      <td>0.256435</td>\n",
              "    </tr>\n",
              "    <tr>\n",
              "      <th>12</th>\n",
              "      <td>XGBoost</td>\n",
              "      <td>0.813780</td>\n",
              "      <td>0.578947</td>\n",
              "      <td>0.048956</td>\n",
              "    </tr>\n",
              "    <tr>\n",
              "      <th>5</th>\n",
              "      <td>Decision Tree</td>\n",
              "      <td>1.000000</td>\n",
              "      <td>0.547368</td>\n",
              "      <td>0.008930</td>\n",
              "    </tr>\n",
              "    <tr>\n",
              "      <th>11</th>\n",
              "      <td>Gaussian Process</td>\n",
              "      <td>1.000000</td>\n",
              "      <td>0.547368</td>\n",
              "      <td>0.227960</td>\n",
              "    </tr>\n",
              "    <tr>\n",
              "      <th>3</th>\n",
              "      <td>SVM</td>\n",
              "      <td>0.616387</td>\n",
              "      <td>0.536842</td>\n",
              "      <td>2.215376</td>\n",
              "    </tr>\n",
              "    <tr>\n",
              "      <th>2</th>\n",
              "      <td>Nearest Neighbors</td>\n",
              "      <td>0.662942</td>\n",
              "      <td>0.526316</td>\n",
              "      <td>0.009835</td>\n",
              "    </tr>\n",
              "    <tr>\n",
              "      <th>4</th>\n",
              "      <td>Gradient Boosting Classifier</td>\n",
              "      <td>1.000000</td>\n",
              "      <td>0.515789</td>\n",
              "      <td>3.162659</td>\n",
              "    </tr>\n",
              "    <tr>\n",
              "      <th>10</th>\n",
              "      <td>QDA</td>\n",
              "      <td>0.502793</td>\n",
              "      <td>0.505263</td>\n",
              "      <td>0.002710</td>\n",
              "    </tr>\n",
              "    <tr>\n",
              "      <th>7</th>\n",
              "      <td>Neural Net</td>\n",
              "      <td>0.566108</td>\n",
              "      <td>0.484211</td>\n",
              "      <td>0.630636</td>\n",
              "    </tr>\n",
              "  </tbody>\n",
              "</table>\n",
              "</div>"
            ],
            "text/plain": [
              "                      classifier  train_score  test_score  train_time\n",
              "1            Logistic Regression     0.648045    0.621053    0.325968\n",
              "6                  Random Forest     0.949721    0.600000    0.517783\n",
              "0                    Extra Trees     0.923650    0.589474    0.220691\n",
              "8                    Naive Bayes     0.560521    0.589474    0.003736\n",
              "9                       AdaBoost     0.711359    0.589474    0.256435\n",
              "12                       XGBoost     0.813780    0.578947    0.048956\n",
              "5                  Decision Tree     1.000000    0.547368    0.008930\n",
              "11              Gaussian Process     1.000000    0.547368    0.227960\n",
              "3                            SVM     0.616387    0.536842    2.215376\n",
              "2              Nearest Neighbors     0.662942    0.526316    0.009835\n",
              "4   Gradient Boosting Classifier     1.000000    0.515789    3.162659\n",
              "10                           QDA     0.502793    0.505263    0.002710\n",
              "7                     Neural Net     0.566108    0.484211    0.630636"
            ]
          },
          "metadata": {
            "tags": []
          }
        }
      ]
    },
    {
      "cell_type": "code",
      "metadata": {
        "id": "dWMUdQ9cnOMj",
        "colab_type": "code",
        "colab": {}
      },
      "source": [
        ""
      ],
      "execution_count": null,
      "outputs": []
    }
  ]
}